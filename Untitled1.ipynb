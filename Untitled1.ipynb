{
 "cells": [
  {
   "cell_type": "code",
   "execution_count": 1,
   "metadata": {},
   "outputs": [],
   "source": [
    "import numpy as np\n",
    "import cv2\n",
    "import pytesseract"
   ]
  },
  {
   "cell_type": "code",
   "execution_count": 2,
   "metadata": {},
   "outputs": [],
   "source": [
    "pytesseract.pytesseract.tessercat_cmd=r'C:\\Program Files\\Tesseract-OCR'"
   ]
  },
  {
   "cell_type": "code",
   "execution_count": 37,
   "metadata": {},
   "outputs": [],
   "source": [
    "p1='C:\\\\Users\\\\HP\\\\Desktop\\\\opencv image detection\\\\image1\\\\txt_mudit_b11_439.jpg'"
   ]
  },
  {
   "cell_type": "code",
   "execution_count": 38,
   "metadata": {},
   "outputs": [],
   "source": [
    "t1=pytesseract.image_to_string(cv2.imread(p1))"
   ]
  },
  {
   "cell_type": "code",
   "execution_count": 937,
   "metadata": {},
   "outputs": [],
   "source": [
    "#gray = cv2.cvtColor(cv2.imread(p1,0), cv2.COLOR_BGR2RGB)\n",
    "#gray = cv2.cvtColor(i1, cv2.COLOR_BGR2RGB)\n",
    "#gray = cv2.threshold(gray, 0, 255, cv2.THRESH_BINARY | cv2.THRESH_OTSU)[1]\n",
    "#t1=pytesseract.image_to_string(gray,config=r'--oem 3 --psm 6')"
   ]
  },
  {
   "cell_type": "markdown",
   "metadata": {},
   "source": [
    "# LOADING ALL IMAGES OF SECOND FOLDER"
   ]
  },
  {
   "cell_type": "code",
   "execution_count": 79,
   "metadata": {},
   "outputs": [],
   "source": [
    "img = cv2.cvtColor(cv2.imread(p1), cv2.COLOR_BGR2GRAY)\n",
    "t2=pytesseract.image_to_string(img, config=r'--oem 3 --psm 6')"
   ]
  },
  {
   "cell_type": "code",
   "execution_count": 81,
   "metadata": {},
   "outputs": [],
   "source": [
    "l1=list(filter(bool, t2.split('\\n')))"
   ]
  },
  {
   "cell_type": "code",
   "execution_count": 82,
   "metadata": {},
   "outputs": [
    {
     "name": "stdout",
     "output_type": "stream",
     "text": [
      "['ALT', 'NO : DL9CX 3096', 'ERK Seance QSNo_ : 01', 'B) REG. Oy: 26/09/20: BEocp! oo MUE', 'CH. NO : MA3EFJC1S0151460 COLOUR : S.SILVER', '‘ ENO > M16AN2011764 CLASS : OMY.', 'Zl NAME _: MANOJ VERMA F', 'a SIWID OF : SANTOSH KUMAR', 'ADDRESS: RZF-14', 'WEST SAGAR PUR', 'NEW DELHI! 110046', '. HP/LEASE: HDFC BANK LTD', 'MODEL : SX4VXIBS3M Registering Authority', 'BODY : SALOON NO.OFCYL : 4 Palam', 'WHEEL BASE : 0 UNLADEN WT : 1200 fi', 'MFG.DT. + 08/2009 SEATINGC : 5 Le', 'FUEL : RCNGIP STANDING C : ;', 'REG.UPTO > 25/09/2024 CU.CAP : 1586 3 3', 'TAXUPTO =: OTT Rercrr Signa', '13.07.2016']\n"
     ]
    }
   ],
   "source": [
    "print(l1)"
   ]
  },
  {
   "cell_type": "code",
   "execution_count": 167,
   "metadata": {},
   "outputs": [],
   "source": [
    "p2='C:\\\\Users\\\\HP\\\\Desktop\\\\opencv image detection\\\\image1\\\\txt_mudit_b11_1328.jpg'"
   ]
  },
  {
   "cell_type": "code",
   "execution_count": 179,
   "metadata": {},
   "outputs": [],
   "source": [
    "#gray = cv2.cvtColor(cv2.imread(p2), cv2.COLOR_BGR2GRAY)\n",
    "#gray = cv2.cvtColor(i1, cv2.COLOR_BGR2RGB)\n",
    "gray = cv2.threshold(cv2.imread(p2,0), 0, 255, cv2.THRESH_BINARY | cv2.THRESH_OTSU)[1]\n",
    "#t1=pytesseract.image_to_string(gray,config=r'--oem 3 --psm 6')\n",
    "#img = cv2.cvtColor(cv2.imread(p2), cv2.COLOR_BGR2RGB)\n",
    "t3=pytesseract.image_to_string(gray)"
   ]
  },
  {
   "cell_type": "code",
   "execution_count": 181,
   "metadata": {},
   "outputs": [],
   "source": [
    "l2=list(filter(bool, t3.split('\\n')))"
   ]
  },
  {
   "cell_type": "code",
   "execution_count": 185,
   "metadata": {},
   "outputs": [],
   "source": [
    "p3='C:\\\\Users\\\\HP\\\\Desktop\\\\opencv image detection\\\\image1\\\\txt_mudit_b11_1334.jpg'\n",
    "gray = cv2.cvtColor(cv2.imread(p3), cv2.COLOR_BGR2GRAY)\n",
    "t4=pytesseract.image_to_string(gray)"
   ]
  },
  {
   "cell_type": "code",
   "execution_count": 187,
   "metadata": {},
   "outputs": [],
   "source": [
    "l3=list(filter(bool,t4.split('\\n')))"
   ]
  },
  {
   "cell_type": "code",
   "execution_count": 205,
   "metadata": {},
   "outputs": [],
   "source": [
    "p4='C:\\\\Users\\\\HP\\\\Desktop\\\\opencv image detection\\\\image1\\\\txt_mudit_b11_1337.jpg'\n",
    "gray = cv2.cvtColor(cv2.imread(p4), cv2.COLOR_BGR2RGB)\n",
    "#gray = cv2.threshold(cv2.imread(p4,0), 0, 255, cv2.THRESH_BINARY | cv2.THRESH_OTSU)[1]\n",
    "t5=pytesseract.image_to_string(gray)"
   ]
  },
  {
   "cell_type": "code",
   "execution_count": 207,
   "metadata": {},
   "outputs": [],
   "source": [
    "l4=list(filter(bool, t5.split('\\n')))"
   ]
  },
  {
   "cell_type": "code",
   "execution_count": 234,
   "metadata": {},
   "outputs": [],
   "source": [
    "p5=('C:\\\\Users\\\\HP\\\\Desktop\\\\opencv image detection\\\\image1\\\\txt_mudit_b11_1339.jpg')\n",
    "gray=cv2.cvtColor(cv2.imread(p5), cv2.COLOR_BGR2GRAY)\n",
    "#gray = cv2.threshold(cv2.imread(p5,0), 0, 255, cv2.THRESH_BINARY | cv2.THRESH_OTSU)[1]\n",
    "t6=pytesseract.image_to_string(gray)"
   ]
  },
  {
   "cell_type": "code",
   "execution_count": 237,
   "metadata": {},
   "outputs": [],
   "source": [
    "p6=('C:\\\\Users\\\\HP\\\\Desktop\\\\opencv image detection\\\\image1\\\\txt_mudit_b11_1343.jpg')\n",
    "gray=cv2.cvtColor(cv2.imread(p6), cv2.COLOR_BGR2GRAY)\n",
    "#gray = cv2.threshold(cv2.imread(p5,0), 0, 255, cv2.THRESH_BINARY | cv2.THRESH_OTSU)[1]\n",
    "t7=pytesseract.image_to_string(gray)"
   ]
  },
  {
   "cell_type": "code",
   "execution_count": 240,
   "metadata": {},
   "outputs": [],
   "source": [
    "p7=('C:\\\\Users\\\\HP\\\\Desktop\\\\opencv image detection\\\\image1\\\\txt_mudit_b11_1347.jpg')\n",
    "gray=cv2.cvtColor(cv2.imread(p7), cv2.COLOR_BGR2GRAY)\n",
    "#gray = cv2.threshold(cv2.imread(p5,0), 0, 255, cv2.THRESH_BINARY | cv2.THRESH_OTSU)[1]\n",
    "t8=pytesseract.image_to_string(gray)"
   ]
  },
  {
   "cell_type": "code",
   "execution_count": 267,
   "metadata": {},
   "outputs": [],
   "source": [
    "p8=('C:\\\\Users\\\\HP\\\\Desktop\\\\opencv image detection\\\\image1\\\\txt_mudit_b11_1354.jpg')\n",
    "gray=cv2.cvtColor(cv2.imread(p8), cv2.COLOR_BGR2RGB)\n",
    "#gray = cv2.threshold(gray, 0, 255, cv2.THRESH_BINARY | cv2.THRESH_OTSU)[1]\n",
    "t9=pytesseract.image_to_string(gray)"
   ]
  },
  {
   "cell_type": "code",
   "execution_count": 269,
   "metadata": {},
   "outputs": [],
   "source": [
    "l8=list(filter(bool, t9.split('\\n')))"
   ]
  },
  {
   "cell_type": "code",
   "execution_count": 270,
   "metadata": {},
   "outputs": [],
   "source": [
    "p9=('C:\\\\Users\\\\HP\\\\Desktop\\\\opencv image detection\\\\image1\\\\txt_mudit_b11_1355.jpg')\n",
    "gray=cv2.cvtColor(cv2.imread(p9), cv2.COLOR_BGR2RGB)\n",
    "t10=pytesseract.image_to_string(gray)"
   ]
  },
  {
   "cell_type": "code",
   "execution_count": 279,
   "metadata": {},
   "outputs": [],
   "source": [
    "p10=('C:\\\\Users\\\\HP\\\\Desktop\\\\opencv image detection\\\\image1\\\\txt_mudit_b11_1361.jpg')\n",
    "gray=cv2.cvtColor(cv2.imread(p10), cv2.COLOR_BGR2RGB)\n",
    "t11=pytesseract.image_to_string(gray, config=r'--oem 3 --psm 6')"
   ]
  },
  {
   "cell_type": "code",
   "execution_count": 294,
   "metadata": {},
   "outputs": [],
   "source": [
    "p11=('C:\\\\Users\\\\HP\\\\Desktop\\\\opencv image detection\\\\image1\\\\txt_mudit_b11_1362.jpg')\n",
    "gray=cv2.cvtColor(cv2.imread(p11), cv2.COLOR_BGR2GRAY)\n",
    "t12=pytesseract.image_to_string(gray,config=r'--oem 3 --psm 6')"
   ]
  },
  {
   "cell_type": "code",
   "execution_count": 301,
   "metadata": {},
   "outputs": [],
   "source": [
    "p12=('C:\\\\Users\\\\HP\\\\Desktop\\\\opencv image detection\\\\image1\\\\txt_mudit_b11_1363.jpg')\n",
    "gray=cv2.cvtColor(cv2.imread(p12), cv2.COLOR_BGR2GRAY)\n",
    "t13=pytesseract.image_to_string(gray, config=r'--oem 3 --psm 6')"
   ]
  },
  {
   "cell_type": "code",
   "execution_count": 314,
   "metadata": {},
   "outputs": [],
   "source": [
    "p13=('C:\\\\Users\\\\HP\\\\Desktop\\\\opencv image detection\\\\image1\\\\txt_mudit_b11_1364.jpg')\n",
    "gray=cv2.cvtColor(cv2.imread(p13), cv2.COLOR_BGR2GRAY)\n",
    "t14=pytesseract.image_to_string(gray)\n",
    "                                #config=r'--oem 3 --psm 6')"
   ]
  },
  {
   "cell_type": "code",
   "execution_count": 325,
   "metadata": {},
   "outputs": [],
   "source": [
    "p14=('C:\\\\Users\\\\HP\\\\Desktop\\\\opencv image detection\\\\image1\\\\txt_mudit_b11_1365.jpg')\n",
    "#gray=cv2.cvtColor(cv2.imread(p14), cv2.COLOR_BGR2GRAY)\n",
    "t15=pytesseract.image_to_string(cv2.imread(p14))"
   ]
  },
  {
   "cell_type": "code",
   "execution_count": 334,
   "metadata": {},
   "outputs": [],
   "source": [
    "p15=('C:\\\\Users\\\\HP\\\\Desktop\\\\opencv image detection\\\\image1\\\\txt_mudit_b11_1369.jpg')\n",
    "gray=cv2.cvtColor(cv2.imread(p15), cv2.COLOR_BGR2RGB)\n",
    "t16=pytesseract.image_to_string(gray, config=r'--oem 3 --psm 6')"
   ]
  },
  {
   "cell_type": "code",
   "execution_count": 345,
   "metadata": {},
   "outputs": [],
   "source": [
    "p16=('C:\\\\Users\\\\HP\\\\Desktop\\\\opencv image detection\\\\image1\\\\txt_mudit_b11_1524.jpg')\n",
    "gray=cv2.cvtColor(cv2.imread(p16), cv2.COLOR_BGR2GRAY)\n",
    "t17=pytesseract.image_to_string(gray,config=r'--oem 3 --psm 6')"
   ]
  },
  {
   "cell_type": "code",
   "execution_count": 352,
   "metadata": {},
   "outputs": [],
   "source": [
    "p17=('C:\\\\Users\\\\HP\\\\Desktop\\\\opencv image detection\\\\image1\\\\txt_mudit_b11_1529.jpg')\n",
    "gray=cv2.cvtColor(cv2.imread(p17), cv2.COLOR_BGR2RGB)\n",
    "t18=pytesseract.image_to_string(gray)\n",
    "                                #,config=r'--oem 3 --psm 6')"
   ]
  },
  {
   "cell_type": "code",
   "execution_count": 399,
   "metadata": {},
   "outputs": [],
   "source": [
    "p18=('C:\\\\Users\\\\HP\\\\Desktop\\\\opencv image detection\\\\image1\\\\txt_mudit_b11_1534.jpg')\n",
    "gray=cv2.cvtColor(cv2.imread(p18), cv2.COLOR_BGR2GRAY)\n",
    "#gray = cv2.threshold(cv2.imread(p18,0), 0, 255, cv2.THRESH_BINARY | cv2.THRESH_OTSU)[1]\n",
    "t19=pytesseract.image_to_string(gray)\n",
    "                               #,config=r'--oem 3 --psm 6')"
   ]
  },
  {
   "cell_type": "code",
   "execution_count": 407,
   "metadata": {},
   "outputs": [],
   "source": [
    "p19=('C:\\\\Users\\\\HP\\\\Desktop\\\\opencv image detection\\\\image1\\\\txt_mudit_b11_1535.jpg')\n",
    "gray=cv2.cvtColor(cv2.imread(p19), cv2.COLOR_BGR2GRAY)\n",
    "#gray = cv2.threshold(cv2.imread(p18,0), 0, 255, cv2.THRESH_BINARY | cv2.THRESH_OTSU)[1]\n",
    "t20=pytesseract.image_to_string(gray,config=r'--oem 3 --psm 6')"
   ]
  },
  {
   "cell_type": "code",
   "execution_count": 412,
   "metadata": {},
   "outputs": [],
   "source": [
    "p20=('C:\\\\Users\\\\HP\\\\Desktop\\\\opencv image detection\\\\image1\\\\txt_mudit_b11_1536.jpg')\n",
    "gray=cv2.cvtColor(cv2.imread(p20), cv2.COLOR_BGR2GRAY)\n",
    "#gray = cv2.threshold(cv2.imread(p18,0), 0, 255, cv2.THRESH_BINARY | cv2.THRESH_OTSU)[1]\n",
    "t21=pytesseract.image_to_string(gray,config=r'--oem 3 --psm 6')"
   ]
  },
  {
   "cell_type": "code",
   "execution_count": 431,
   "metadata": {},
   "outputs": [],
   "source": [
    "p21=('C:\\\\Users\\\\HP\\\\Desktop\\\\opencv image detection\\\\image1\\\\txt_mudit_b11_1539.jpg')\n",
    "gray=cv2.cvtColor(cv2.imread(p21), cv2.COLOR_BGR2GRAY)\n",
    "#gray = cv2.threshold(cv2.imread(p21,0), 0, 255, cv2.THRESH_BINARY | cv2.THRESH_OTSU)[1]\n",
    "t22=pytesseract.image_to_string(gray\n",
    "                                ,config=r'--oem 3 --psm 6')"
   ]
  },
  {
   "cell_type": "code",
   "execution_count": 433,
   "metadata": {},
   "outputs": [],
   "source": [
    "l21=list(filter(bool, t22.split('\\n')))"
   ]
  },
  {
   "cell_type": "code",
   "execution_count": 1274,
   "metadata": {},
   "outputs": [],
   "source": [
    "r=[]\n",
    "d=[]\n",
    "n=[]\n",
    "e=[]\n",
    "c=[]"
   ]
  },
  {
   "cell_type": "code",
   "execution_count": 1275,
   "metadata": {},
   "outputs": [],
   "source": [
    "\n",
    "for i in range(len(l21)):\n",
    "    if 'i ers' in l21[i]:\n",
    "        n.append((l21[i].split(' ers ')[1]))\n",
    "    if 'OAAI343' in l21[i]:\n",
    "        r.append(l21[i])\n",
    "    if 'Month and Year of Mig' in l21[i]:\n",
    "        d.append(l21[i].split('. ')[1])\n",
    "    if 'Chassis No' in l21[i]:\n",
    "        c.append(l21[i].split('No')[1].split(' ')[1])\n",
    "    if 'Engine' in l21[i]:\n",
    "        e.append(l21[i].split('Engine ')[1].split(' ')[0])"
   ]
  },
  {
   "cell_type": "code",
   "execution_count": null,
   "metadata": {},
   "outputs": [],
   "source": []
  },
  {
   "cell_type": "code",
   "execution_count": null,
   "metadata": {},
   "outputs": [],
   "source": []
  },
  {
   "cell_type": "code",
   "execution_count": null,
   "metadata": {},
   "outputs": [],
   "source": []
  },
  {
   "cell_type": "code",
   "execution_count": 481,
   "metadata": {},
   "outputs": [],
   "source": [
    "p22=('C:\\\\Users\\\\HP\\\\Desktop\\\\opencv image detection\\\\image1\\\\txt_mudit_b11_11597.jpg')\n",
    "gray=cv2.cvtColor(cv2.imread(p22), cv2.COLOR_BGR2RGB)\n",
    "#gray = cv2.threshold(gray, 0, 255, cv2.THRESH_BINARY | cv2.THRESH_OTSU)[1]\n",
    "t23=pytesseract.image_to_string(gray,\n",
    "                                config=r'--oem 3 --psm 6')"
   ]
  },
  {
   "cell_type": "code",
   "execution_count": 932,
   "metadata": {},
   "outputs": [],
   "source": [
    "l=[]"
   ]
  },
  {
   "cell_type": "code",
   "execution_count": 1276,
   "metadata": {},
   "outputs": [],
   "source": [
    "for i in range(len(l22)):\n",
    "    if 'REGN . NO ' in l22[i]:\n",
    "        r.append(l22[i].split(':')[1].split('oa')[0])\n",
    "    if 'Eo.' in l22[i]:\n",
    "        d.append(l22[i].split(':')[1].split('|')[0])\n",
    "    #if 'be UCENCE NO.' in l22[i]:\n",
    "        #l.append(l22[i].split(\":\")[1].split('n')[0])\n",
    "    if 'ce | NAME 1' in l22[i]:\n",
    "        n.append(l22[i].split('1')[1])\n",
    "    if 'SHNO:' in l22[i]:\n",
    "        c.append(l22[i].split(':')[1])\n",
    "    if 'EWO” ' in l22[i]:\n",
    "        e.append(l22[i].split('!')[1])"
   ]
  },
  {
   "cell_type": "code",
   "execution_count": 1277,
   "metadata": {},
   "outputs": [
    {
     "name": "stdout",
     "output_type": "stream",
     "text": [
      "2\n",
      "2\n",
      "2\n",
      "2\n",
      "2\n"
     ]
    }
   ],
   "source": [
    "print(len(n))\n",
    "print(len(r))\n",
    "print(len(c))\n",
    "print(len(e))\n",
    "print(len(d))"
   ]
  },
  {
   "cell_type": "code",
   "execution_count": 1180,
   "metadata": {},
   "outputs": [],
   "source": [
    "p23=('C:\\\\Users\\\\HP\\\\Desktop\\\\opencv image detection\\\\image1\\\\txt_mudit_b11_115991.jpg')\n",
    "gray=cv2.cvtColor(cv2.imread(p23), cv2.COLOR_BGR2RGB)\n",
    "#gray = cv2.threshold(gray, 0, 255, cv2.THRESH_BINARY | cv2.THRESH_OTSU)[1]\n",
    "t24=pytesseract.image_to_string(gray)\n",
    "                                #config=r'--oem 3 --psm 6')"
   ]
  },
  {
   "cell_type": "code",
   "execution_count": 1181,
   "metadata": {},
   "outputs": [],
   "source": [
    "l23=list(filter(bool, t24.split('\\n')))"
   ]
  },
  {
   "cell_type": "code",
   "execution_count": 1278,
   "metadata": {},
   "outputs": [],
   "source": [
    "for i in range(len(l23)):\n",
    "    if 'REGN . NO :' in l23[i]:\n",
    "        r.append(l23[i].split(' : ')[1])\n",
    "    if 'REG. DT:' in l23[i]:\n",
    "        d.append(l23[i].split(':')[1].split(' ')[1])\n",
    "    if 'CH.NO :' in l23[i]:\n",
    "        c.append(l23[i].split(':')[1].split(' ')[1])\n",
    "    if 'ENO :' in l23[i]:\n",
    "        e.append(l23[i].split(':')[1].split(' ')[1])\n",
    "    if 'NAME _:' in l23[i]:\n",
    "        n.append(l23[i].split(': ')[1])"
   ]
  },
  {
   "cell_type": "code",
   "execution_count": 1279,
   "metadata": {},
   "outputs": [],
   "source": [
    "for i in range(len(l20)):\n",
    "    if 'REGN . NO :' in l20[i]:\n",
    "        r.append(l20[i].split(' : ')[1])\n",
    "    if 'REG. DT' in l20[i]:\n",
    "        d.append(l20[i].split('DT')[1].split(' ')[1])\n",
    "    if 'CH. NO ©' in l20[i]:\n",
    "        c.append(l20[i].split('©')[1].split(' ')[1])\n",
    "    if 'ENO . ' in l20[i]:\n",
    "        e.append(l20[i].split(' . ')[1].split(' ')[0])\n",
    "    if 'NAME © ' in l20[i]:\n",
    "        n.append(l20[i].split(' © ')[1])"
   ]
  },
  {
   "cell_type": "code",
   "execution_count": 1280,
   "metadata": {},
   "outputs": [
    {
     "name": "stdout",
     "output_type": "stream",
     "text": [
      "4\n",
      "4\n",
      "4\n",
      "4\n",
      "4\n"
     ]
    }
   ],
   "source": [
    "print(len(n))\n",
    "print(len(r))\n",
    "print(len(c))\n",
    "print(len(e))\n",
    "print(len(d))"
   ]
  },
  {
   "cell_type": "code",
   "execution_count": 1281,
   "metadata": {},
   "outputs": [],
   "source": [
    "for i in range(len(l19)):\n",
    "    if 'REGN . NO:' in l19[i]:\n",
    "        r.append(l19[i].split(': ')[1])\n",
    "    if 'REG. DT:' in l19[i]:\n",
    "        d.append(l19[i].split(':')[1].split(' ')[1])\n",
    "    if '* CH.NO :' in l19[i]:\n",
    "        c.append(l19[i].split(' : ')[1].split(' ')[0])\n",
    "    if 'ENO :' in l19[i]:\n",
    "        e.append(l19[i].split(' : ')[1].split(' ')[0])\n",
    "    if 'NAME :' in l19[i]:\n",
    "        n.append(l19[i].split(': ')[1])"
   ]
  },
  {
   "cell_type": "code",
   "execution_count": 1282,
   "metadata": {},
   "outputs": [],
   "source": [
    "for i in range(len(l18)):\n",
    "    if 'REGN.' in l18[i]:\n",
    "        r.append(l18[i].split(': ')[1].split('“™T™')[0])\n",
    "    if 'REG. DT:' in l18[i]:\n",
    "        d.append(l18[i].split(':')[1].split(' ')[1])\n",
    "    if 'CH.NO :' in l18[i]:\n",
    "        c.append(l19[i].split(' : ')[1].split(' ')[0])\n",
    "    if 'ENO :' in l18[i]:\n",
    "        e.append(l18[i].split(' : ')[1].split(' ')[0])\n",
    "    if 'KARISHMA DHAWAN' in l18[i]:\n",
    "        n.append(l18[i])"
   ]
  },
  {
   "cell_type": "code",
   "execution_count": 1283,
   "metadata": {},
   "outputs": [],
   "source": [
    "for i in range(len(l17)):\n",
    "    if 'REGN' in l17[i]:\n",
    "        r.append(l17[i].split(' : ')[1])\n",
    "    if 'REG. DT:' in l17[i]:\n",
    "        d.append(l17[i].split(':')[1].split(' ')[1])\n",
    "    if 'CH' in l17[i]:\n",
    "        c.append(l17[i].split(' :')[1].split(' ')[1])\n",
    "    if 'ENO' in l17[i]:\n",
    "        e.append(l17[i].split(':')[1].split(' ')[1])\n",
    "    if 'NAME ' in l17[i]:\n",
    "        n.append(l17[i].split(' : ')[1])"
   ]
  },
  {
   "cell_type": "code",
   "execution_count": 1284,
   "metadata": {},
   "outputs": [
    {
     "name": "stdout",
     "output_type": "stream",
     "text": [
      "7\n",
      "7\n",
      "7\n",
      "7\n",
      "7\n"
     ]
    }
   ],
   "source": [
    "print(len(n))\n",
    "print(len(r))\n",
    "print(len(c))\n",
    "print(len(e))\n",
    "print(len(d))"
   ]
  },
  {
   "cell_type": "code",
   "execution_count": 1285,
   "metadata": {},
   "outputs": [],
   "source": [
    "for i in range(len(l16)):\n",
    "    if 'REGN' in l16[i]:\n",
    "        r.append(l16[i].split(': ')[1])\n",
    "    if 'REG. DT:' in l16[i]:\n",
    "        d.append(l16[i].split(':')[1].split(' ')[1])\n",
    "    if 'CH' in l16[i]:\n",
    "        c.append(l16[i].split(':')[1].split(' ')[1])\n",
    "    if 'ENO' in l16[i]:\n",
    "        e.append(l16[i].split(':')[1].split(' ')[1])\n",
    "    if 'NAME ' in l16[i]:\n",
    "        n.append(l16[i].split(' : ')[1].split('ix')[0])"
   ]
  },
  {
   "cell_type": "code",
   "execution_count": 1286,
   "metadata": {},
   "outputs": [],
   "source": [
    "for i in range(len(l15)):\n",
    "    if 'REGN' in l15[i]:\n",
    "        r.append(l15[i].split(': ')[1])\n",
    "    if 'REG. DT:' in l15[i]:\n",
    "        d.append(l15[i].split(':')[1].split(' ')[1])\n",
    "    if 'CH' in l15[i]:\n",
    "        c.append(l15[i].split(':')[1].split(' ')[1])\n",
    "    if 'ENO' in l15[i]:\n",
    "        e.append(l15[i].split(':')[1].split(' ')[1])\n",
    "    if 'NAME ' in l15[i]:\n",
    "        n.append(l15[i].split(' : ')[1].split('ix')[0])"
   ]
  },
  {
   "cell_type": "code",
   "execution_count": 1287,
   "metadata": {},
   "outputs": [
    {
     "name": "stdout",
     "output_type": "stream",
     "text": [
      "9\n",
      "9\n",
      "9\n",
      "9\n",
      "9\n"
     ]
    }
   ],
   "source": [
    "print(len(n))\n",
    "print(len(r))\n",
    "print(len(c))\n",
    "print(len(e))\n",
    "print(len(d))"
   ]
  },
  {
   "cell_type": "code",
   "execution_count": 1288,
   "metadata": {},
   "outputs": [],
   "source": [
    "for i in range(len(l14)):\n",
    "    if 'REGN' in l14[i]:\n",
    "        r.append(l14[i].split(': ')[1])\n",
    "    if 'REG.' in l14[i]:\n",
    "        d.append(l14[i].split('DT ')[1])\n",
    "    if 'CH.' in l14[i]:\n",
    "        c.append(l14[i].split(' : ')[1].split(' ')[0])\n",
    "    if 'ENO' in l14[i]:\n",
    "        e.append(l14[i].split('»')[1].split(' ')[1])\n",
    "    if ': NAME. :' in l14[i]:\n",
    "        n.append(l14[i].split('. ')[1].split(': ')[1])"
   ]
  },
  {
   "cell_type": "code",
   "execution_count": 1289,
   "metadata": {},
   "outputs": [],
   "source": [
    "for i in range(len(l13)):\n",
    "    if 'REGN.' in l13[i]:\n",
    "        r.append(l13[i].split(' : ')[1])\n",
    "    if 'REGN OT' in l13[i]:\n",
    "        d.append(l13[i].split(': ')[1].split(' ')[0])\n",
    "    if 'CHINO' in l13[i]:\n",
    "        c.append(l13[i].split('; ')[1])\n",
    "    if 'ENO' in l13[i]:\n",
    "        e.append(l13[i].split('ENO')[1].split(' ')[1])\n",
    "    if 'NAME' in l13[i]:\n",
    "        n.append(l13[i].split('NAME ')[1])"
   ]
  },
  {
   "cell_type": "code",
   "execution_count": 1290,
   "metadata": {},
   "outputs": [
    {
     "name": "stdout",
     "output_type": "stream",
     "text": [
      "11\n",
      "11\n",
      "11\n",
      "11\n",
      "11\n"
     ]
    }
   ],
   "source": [
    "print(len(n))\n",
    "print(len(r))\n",
    "print(len(c))\n",
    "print(len(e))\n",
    "print(len(d))"
   ]
  },
  {
   "cell_type": "code",
   "execution_count": 1291,
   "metadata": {},
   "outputs": [],
   "source": [
    "for i in range(len(l12)):\n",
    "    if 'REGN.' in l12[i]:\n",
    "        r.append(l12[i].split(': ')[1])\n",
    "    if 'REGN DT' in l12[i]:\n",
    "        d.append(l12[i].split('DT:')[1].split(' ')[1])\n",
    "    if 'CH NO :' in l12[i]:\n",
    "        c.append(l12[i].split(' : ')[1].split(' ')[0])\n",
    "    if 'ENO' in l12[i]:\n",
    "        e.append(l12[i].split('ENO : ')[1])\n",
    "    if 'NAME — :' in l12[i]:\n",
    "        n.append(l12[i].split(': ')[1])"
   ]
  },
  {
   "cell_type": "code",
   "execution_count": null,
   "metadata": {},
   "outputs": [],
   "source": []
  },
  {
   "cell_type": "code",
   "execution_count": 1292,
   "metadata": {},
   "outputs": [
    {
     "name": "stdout",
     "output_type": "stream",
     "text": [
      "12\n",
      "12\n",
      "12\n",
      "12\n",
      "12\n"
     ]
    }
   ],
   "source": [
    "print(len(n))\n",
    "print(len(r))\n",
    "print(len(c))\n",
    "print(len(e))\n",
    "print(len(d))"
   ]
  },
  {
   "cell_type": "code",
   "execution_count": 1293,
   "metadata": {},
   "outputs": [
    {
     "name": "stdout",
     "output_type": "stream",
     "text": [
      "REGN DT: 07/05/2016 CH NO : MA3EHKD1S00A97129\n",
      "1774707\n",
      "SACHIN KUMAR\n"
     ]
    }
   ],
   "source": [
    "p=[]\n",
    "for i in range(len(l12)):\n",
    "    if 'REGN.' in l12[i]:\n",
    "        p.append(l12[i].split(': ')[1])\n",
    "    if 'REGN DT' in l12[i]:\n",
    "        print(l12[i])\n",
    "    if 'CH' in l12[i]:\n",
    "        c2.append(l12[i].split(' : ')[1].split(' ')[0])\n",
    "    if 'ENO' in l12[i]:\n",
    "        print(l12[i].split('ENO : ')[1])\n",
    "    if 'NAME — :' in l12[i]:\n",
    "            #if 'NAME — :' in l12[i]:\n",
    "        print(l12[i].split(': ')[1])"
   ]
  },
  {
   "cell_type": "code",
   "execution_count": 1294,
   "metadata": {},
   "outputs": [
    {
     "data": {
      "text/plain": [
       "['MA3EHKD1S00A97129', 'SACHIN']"
      ]
     },
     "execution_count": 1294,
     "metadata": {},
     "output_type": "execute_result"
    }
   ],
   "source": [
    "#p2.append(('sachin'))\n",
    "c2"
   ]
  },
  {
   "cell_type": "code",
   "execution_count": 1295,
   "metadata": {},
   "outputs": [
    {
     "data": {
      "text/plain": [
       "['4',\n",
       " '> REGN. NO : DL8CAN1006\"™',\n",
       " 'REGN DT: 07/05/2016 CH NO : MA3EHKD1S00A97129',\n",
       " 'OSNO :01 ENO : 1774707',\n",
       " 'COLOUR : ARCTIC WHITE VEH CL : Motor Car',\n",
       " 'Son MFR — : MARUTI SUZUKI INDIA L',\n",
       " 'cm TD',\n",
       " ') NAME — : SACHIN KUMAR',\n",
       " 'SIWID OF: JAIPARKASH SINGH',\n",
       " 'ADDRESS : F 46 NORTH GHONDA GALI NO 4F BLOCK',\n",
       " 'SUBHASH VIHARNorth EastDL110053',\n",
       " '—',\n",
       " 'MODEL MARUTI SWIFT VXI BSIV',\n",
       " 'BODY RIGID (PASSENGER CAR) .',\n",
       " 'NOOFCYL : 04 WHEEL BASE : 002430',\n",
       " 'MFG OT 05/2016 UNLADEN WT : 000945',\n",
       " 'FUEL PETROL SEATING C : 005 ‘Signature',\n",
       " 'REGD UPTO : 21/06/2031 STANDING C Registering Authority',\n",
       " 'TAX UPTO ort cu CAP 001197 WWAZIRPUR',\n",
       " 'es BSR',\n",
       " 'be ) Se Soren ore 6 O3',\n",
       " '/ RS',\n",
       " 'eae']"
      ]
     },
     "execution_count": 1295,
     "metadata": {},
     "output_type": "execute_result"
    }
   ],
   "source": [
    "l12"
   ]
  },
  {
   "cell_type": "code",
   "execution_count": 1296,
   "metadata": {},
   "outputs": [],
   "source": [
    "c2=[]"
   ]
  },
  {
   "cell_type": "code",
   "execution_count": 1297,
   "metadata": {},
   "outputs": [
    {
     "data": {
      "text/plain": [
       "[]"
      ]
     },
     "execution_count": 1297,
     "metadata": {},
     "output_type": "execute_result"
    }
   ],
   "source": [
    "p2"
   ]
  },
  {
   "cell_type": "code",
   "execution_count": 1298,
   "metadata": {},
   "outputs": [],
   "source": [
    "len(p)\n",
    "p2=[]"
   ]
  },
  {
   "cell_type": "code",
   "execution_count": 1299,
   "metadata": {},
   "outputs": [],
   "source": [
    "for i in range(len(l11)):\n",
    "    if 'REGN' in l11[i]:\n",
    "        r.append(l11[i].split(': ')[1])\n",
    "    if 'REG.' in l11[i]:\n",
    "        d.append(l11[i].split('OT.')[1].split(' ')[1])\n",
    "    if 'CH.' in l11[i]:\n",
    "        c.append(l11[i].split('CH.NO © ')[1])\n",
    "    if 'ENO' in l11[i]:\n",
    "        e.append(l11[i].split(' = ')[1].split(' ')[0])\n",
    "    if 'NAME:' in l11[i]:\n",
    "        n.append(l11[i].split(': ')[1].split('.')[0])"
   ]
  },
  {
   "cell_type": "code",
   "execution_count": 1300,
   "metadata": {},
   "outputs": [
    {
     "name": "stdout",
     "output_type": "stream",
     "text": [
      "DL9CAC1454 ;\n",
      "18/08/2011\n",
      "MA3EADE1S00237286 COLOUR = S.SILVER |\n",
      "K10BN42798995\n",
      "KUMUDHA ARULDAS\n"
     ]
    }
   ],
   "source": [
    "for i in range(len(l11)):\n",
    "    if 'REGN' in l11[i]:\n",
    "        print(l11[i].split(': ')[1])\n",
    "    if 'REG.' in l11[i]:\n",
    "        print(l11[i].split('OT.')[1].split(' ')[1])\n",
    "    if 'CH.' in l11[i]:\n",
    "        print(l11[i].split('CH.NO © ')[1])\n",
    "    if 'ENO' in l11[i]:\n",
    "        print(l11[i].split(' = ')[1].split(' ')[0])\n",
    "    if 'NAME:' in l11[i]:\n",
    "        print(l11[i].split(': ')[1].split('.')[0])"
   ]
  },
  {
   "cell_type": "code",
   "execution_count": 1301,
   "metadata": {},
   "outputs": [],
   "source": [
    "for i in range(len(l10)):\n",
    "    if 'REGN' in l10[i]:\n",
    "        r.append(l10[i].split(': ')[1])\n",
    "    if 'REG. DT. ' in l10[i]:\n",
    "        d.append(l10[i].split('DT. ')[1].split(' ')[1])\n",
    "    if 'CH.' in l10[i]:\n",
    "        c.append(l10[i].split(' : ')[1].split(' ')[0])\n",
    "    if 'ENO' in l11[i]:\n",
    "        e.append(l10[i].split(' : ')[1].split('CLASS')[0])\n",
    "    if 'NAME' in l10[i]:\n",
    "        n.append(l10[i].split(': ')[1])"
   ]
  },
  {
   "cell_type": "code",
   "execution_count": 1302,
   "metadata": {},
   "outputs": [
    {
     "name": "stdout",
     "output_type": "stream",
     "text": [
      "DL13CA8614\n",
      "MFGCD\n",
      "MA3FHEB1S00593004\n",
      "D13A- 2307158 \n",
      "RAKESH KUMAR\n"
     ]
    }
   ],
   "source": [
    "for i in range(len(l10)):\n",
    "    if 'REGN' in l10[i]:\n",
    "         print(l10[i].split(': ')[1])\n",
    "    if 'REG. DT. ' in l10[i]:\n",
    "        print(l10[i].split('DT. ')[1].split(' ')[1])\n",
    "    if 'CH.' in l10[i]:\n",
    "        print(l10[i].split(' : ')[1].split(' ')[0])\n",
    "    if 'ENO' in l11[i]:\n",
    "        print(l10[i].split(' : ')[1].split('CLASS')[0])\n",
    "    if 'NAME' in l10[i]:\n",
    "        print(l10[i].split(': ')[1])"
   ]
  },
  {
   "cell_type": "code",
   "execution_count": 1303,
   "metadata": {},
   "outputs": [
    {
     "data": {
      "text/plain": [
       "['REGN . NO: DL13CA8614',\n",
       " 'O SNo ut)',\n",
       " 'REG. DT. 11/02/2014 MFGCD : MUL',\n",
       " 'CH. NO : MA3FHEB1S00593004 COLOUR : A WHITE',\n",
       " 'ENO : D13A- 2307158 CLASS: L.M.V.',\n",
       " 'NAME : RAKESH KUMAR',\n",
       " 'S/WID OF : SHRI SOM NATH',\n",
       " 'ADDRESS: H NO -60 IIIRD FLOOR STREET',\n",
       " 'NO -2/3 ARJUN NAGAR',\n",
       " 'DELHI 110051',\n",
       " 'MODEL : SWIFTLDIBS4M Registering At',\n",
       " 'BODY : SALOON NO.OF CYL : 4 Surajmal Vihar',\n",
       " 'WHEEL BASE : 0 UNLADEN WT : 1050 1',\n",
       " 'MFG.DT. : 0172014 SEATINGC : 5 Laer 3',\n",
       " 'FUEL : DIESEL STANDING C : Se a',\n",
       " 'REG.UPTO + 1010212029 CU.CAP : 1248 mr',\n",
       " 'TAX UPTO : OTT Signature',\n",
       " 'Sasi Vmax']"
      ]
     },
     "execution_count": 1303,
     "metadata": {},
     "output_type": "execute_result"
    }
   ],
   "source": [
    "l10"
   ]
  },
  {
   "cell_type": "code",
   "execution_count": 1304,
   "metadata": {},
   "outputs": [
    {
     "name": "stdout",
     "output_type": "stream",
     "text": [
      "14\n",
      "14\n",
      "14\n",
      "14\n",
      "14\n"
     ]
    }
   ],
   "source": [
    "print(len(n))\n",
    "print(len(r))\n",
    "print(len(c))\n",
    "print(len(e))\n",
    "print(len(d))"
   ]
  },
  {
   "cell_type": "code",
   "execution_count": 1305,
   "metadata": {},
   "outputs": [],
   "source": [
    "for i in range(len(l9)):\n",
    "    if 'REGN' in l9[i]:\n",
    "        r.append(l9[i].split(': ')[1])\n",
    "    if 'REG. DT. ' in l10[i]:\n",
    "        d.append(l9[i].split('DT:')[1].split(' ')[1])\n",
    "    if 'CH.' in l9[i]:\n",
    "        c.append(l9[i].split(' : ')[1].split(' ')[0])\n",
    "    if 'ENO' in l11[i]:\n",
    "        e.append(l9[i].split(' : ')[1].split('CLASS')[0])\n",
    "    if 'NAME' in l9[i]:\n",
    "        n.append(l9[i].split(' : ')[1])"
   ]
  },
  {
   "cell_type": "code",
   "execution_count": 1306,
   "metadata": {},
   "outputs": [
    {
     "name": "stdout",
     "output_type": "stream",
     "text": [
      "15\n",
      "15\n",
      "15\n",
      "15\n",
      "15\n"
     ]
    }
   ],
   "source": [
    "print(len(n))\n",
    "print(len(r))\n",
    "print(len(c))\n",
    "print(len(e))\n",
    "print(len(d))"
   ]
  },
  {
   "cell_type": "code",
   "execution_count": 1307,
   "metadata": {},
   "outputs": [],
   "source": [
    "for i in range(len(l8)):\n",
    "    if 'REGN' in l8[i]:\n",
    "        r.append(l8[i].split(':')[1])\n",
    "    if 'DT:' in l8[i]:\n",
    "        d.append(l8[i].split('DT: ')[1])\n",
    "    if 'H.NO :' in l8[i]:\n",
    "        c.append(l8[i].split(' : ')[1])\n",
    "    if 'Eno' in l8[i]:\n",
    "        e.append(l8[i].split(' 1 ')[1])\n",
    "    if 'NAME :' in l8[i]:\n",
    "        n.append(l8[i].split('. ')[1])"
   ]
  },
  {
   "cell_type": "code",
   "execution_count": 1308,
   "metadata": {},
   "outputs": [
    {
     "name": "stdout",
     "output_type": "stream",
     "text": [
      "16\n",
      "16\n",
      "16\n",
      "16\n",
      "16\n"
     ]
    }
   ],
   "source": [
    "print(len(n))\n",
    "print(len(r))\n",
    "print(len(c))\n",
    "print(len(e))\n",
    "print(len(d))"
   ]
  },
  {
   "cell_type": "code",
   "execution_count": 1309,
   "metadata": {},
   "outputs": [],
   "source": [
    "for i in range(len(l7)):\n",
    "    if 'REGN' in l7[i]:\n",
    "        r.append(l7[i].split(': ')[1])\n",
    "    if 'REG. DT' in l7[i]:\n",
    "        d.append(l7[i].split('DT')[1].split(' ')[1])\n",
    "    if 'CH. NO :' in l7[i]:\n",
    "        c.append(l7[i].split(' : ')[1].split(' ')[0])\n",
    "    if 'ENO' in l7[i]:\n",
    "        e.append(l7[i].split('ENO ')[1])\n",
    "    if 'NAME:' in l7[i]:\n",
    "        n.append(l7[i].split(': ')[1])"
   ]
  },
  {
   "cell_type": "code",
   "execution_count": 1310,
   "metadata": {},
   "outputs": [
    {
     "name": "stdout",
     "output_type": "stream",
     "text": [
      "17\n",
      "17\n",
      "17\n",
      "17\n",
      "17\n"
     ]
    }
   ],
   "source": [
    "print(len(n))\n",
    "print(len(r))\n",
    "print(len(c))\n",
    "print(len(e))\n",
    "print(len(d))"
   ]
  },
  {
   "cell_type": "code",
   "execution_count": 1311,
   "metadata": {},
   "outputs": [],
   "source": [
    "for i in range(len(l6)):\n",
    "    if 'Registration No. ' in l6[i]:\n",
    "        r.append(l6[i].split('. ')[1])\n",
    "    if 'Month and Year of Mfg.' in l6[i]:\n",
    "        d.append(l6[i].split('. ')[1])\n",
    "    if 'Chassis No.' in l6[i]:\n",
    "        c.append(l6[i].split('No.of')[0].split('. ')[1])\n",
    "    if 'Engine' in l6[i]:\n",
    "        e.append(l6[i].split('Engine')[1].split(' ')[1])\n",
    "    if 'Name MR.' in l6[i]:\n",
    "        n.append(l6[i].split('Name ')[1])"
   ]
  },
  {
   "cell_type": "code",
   "execution_count": 1312,
   "metadata": {},
   "outputs": [
    {
     "name": "stdout",
     "output_type": "stream",
     "text": [
      "18\n",
      "18\n",
      "18\n",
      "18\n",
      "18\n"
     ]
    }
   ],
   "source": [
    "print(len(n))\n",
    "print(len(r))\n",
    "print(len(c))\n",
    "print(len(e))\n",
    "print(len(d))"
   ]
  },
  {
   "cell_type": "code",
   "execution_count": 1313,
   "metadata": {},
   "outputs": [],
   "source": [
    "for i in range(len(l5)):\n",
    "    if 'Registration No. ' in l5[i]:\n",
    "        r.append(l5[i].split('. ')[1])\n",
    "    if 'Month and Year of Mig.' in l5[i]:\n",
    "        d.append(l5[i].split('. ')[1])\n",
    "    if 'Chassis No.' in l5[i]:\n",
    "        c.append(l5[i].split('Chassis No. ')[1].split(' No.of ')[0])\n",
    "    if 'Engine' in l5[i]:\n",
    "        e.append(l5[i].split('Engine ')[1].split(' Fuel ')[0])\n",
    "    if 'Narne' in l5[i]:\n",
    "        n.append(l5[i].split('Narne ')[1])"
   ]
  },
  {
   "cell_type": "code",
   "execution_count": 1314,
   "metadata": {},
   "outputs": [
    {
     "name": "stdout",
     "output_type": "stream",
     "text": [
      "19\n",
      "19\n",
      "19\n",
      "19\n",
      "19\n"
     ]
    }
   ],
   "source": [
    "print(len(n))\n",
    "print(len(r))\n",
    "print(len(c))\n",
    "print(len(e))\n",
    "print(len(d))"
   ]
  },
  {
   "cell_type": "code",
   "execution_count": 1315,
   "metadata": {},
   "outputs": [],
   "source": [
    "for i in range(len(l3)):\n",
    "    if 'Registration No.' in l3[i]:\n",
    "        r.append(l3[i].split('. ')[1])\n",
    "    if 'Month and Year of Mfg' in l3[i]:\n",
    "        d.append(l3[i].split('. ')[1])\n",
    "    if 'Chassis No,' in l3[i]:\n",
    "        c.append(l3[i].split('Chassis No, ')[1].split(' No.of ')[0])\n",
    "    if 'Engine' in l3[i]:\n",
    "        e.append(l3[i].split('Engine ')[1].split('Fue! ')[0])\n",
    "    if 'MR HARISH KUMAR' in l3[i]:\n",
    "        n.append(l3[i].split('Name ')[1])"
   ]
  },
  {
   "cell_type": "code",
   "execution_count": 1316,
   "metadata": {},
   "outputs": [
    {
     "name": "stdout",
     "output_type": "stream",
     "text": [
      "20\n",
      "20\n",
      "20\n",
      "20\n",
      "20\n"
     ]
    }
   ],
   "source": [
    "print(len(n))\n",
    "print(len(r))\n",
    "print(len(c))\n",
    "print(len(e))\n",
    "print(len(d))"
   ]
  },
  {
   "cell_type": "code",
   "execution_count": 1317,
   "metadata": {},
   "outputs": [],
   "source": [
    "for i in range(len(l2)):\n",
    "    if 'Registration No.' in l2[i]:\n",
    "        r.append(l2[i].split('. ')[1])\n",
    "    if 'Month and Year of Mig.' in l2[i]:\n",
    "        d.append(l2[i].split('. ')[1])\n",
    "    if 'Chassis No.' in l2[i]:\n",
    "        c.append(l2[i].split('Chassis No. ')[1].split(' No.of ')[0])\n",
    "    if 'Engine' in l2[i]:\n",
    "        e.append(l2[i].split('Engine ')[1].split('Fue! ')[0])\n",
    "    if 'SUBE SINGH' in l2[i]:\n",
    "        n.append(l2[i].split('Name ')[1])"
   ]
  },
  {
   "cell_type": "code",
   "execution_count": 1318,
   "metadata": {},
   "outputs": [
    {
     "name": "stdout",
     "output_type": "stream",
     "text": [
      "21\n",
      "21\n",
      "21\n",
      "21\n",
      "21\n"
     ]
    }
   ],
   "source": [
    "print(len(n))\n",
    "print(len(r))\n",
    "print(len(c))\n",
    "print(len(e))\n",
    "print(len(d))"
   ]
  },
  {
   "cell_type": "code",
   "execution_count": 1319,
   "metadata": {},
   "outputs": [],
   "source": [
    "for i in range(len(l1)):\n",
    "    if 'NO : DL9CX 3096' in l1[i]:\n",
    "        r.append(l1[i].split(': ')[1])\n",
    "    if 'REG. Oy:' in l1[i]:\n",
    "        d.append(l1[i].split('Oy: ')[1].split(':')[0])\n",
    "    if 'CH. NO : ' in l1[i]:\n",
    "        c.append(l1[i].split('CH. NO : ')[1].split('COLOUR')[0])\n",
    "    if 'ENO' in l1[i]:\n",
    "        e.append(l1[i].split('> ')[1].split(' CLASS ')[0])\n",
    "    if 'NAME _:' in l1[i]:\n",
    "        n.append(l1[i].split(': ')[1])"
   ]
  },
  {
   "cell_type": "code",
   "execution_count": 1268,
   "metadata": {},
   "outputs": [
    {
     "name": "stdout",
     "output_type": "stream",
     "text": [
      "22\n",
      "22\n",
      "22\n",
      "22\n",
      "22\n"
     ]
    }
   ],
   "source": [
    "print(len(n))\n",
    "print(len(r))\n",
    "print(len(c))\n",
    "print(len(e))\n",
    "print(len(d))"
   ]
  },
  {
   "cell_type": "code",
   "execution_count": 1320,
   "metadata": {},
   "outputs": [],
   "source": [
    "for i in range(len(l4)):\n",
    "    if 'Regisuation Ma' in l4[i]:\n",
    "        r.append(l4[i].split('. ')[1])\n",
    "    if 'Month and Year of My.' in l4[i]:\n",
    "        d.append(l4[i].split('. ')[1])\n",
    "    if 'Chassis Ho ' in l4[i]:\n",
    "        c.append(l4[i].split('Chassis Ho ')[1].split('No.of')[0])\n",
    "    #if 'Engine' in l4[i]:\n",
    "    if 'cage' in l4[i]:    \n",
    "        e.append(l4[i].split('cage')[1])\n",
    "    if 'Namie' in l4[i]:\n",
    "        n.append(l4[i].split('Namie')[1])"
   ]
  },
  {
   "cell_type": "code",
   "execution_count": 1321,
   "metadata": {},
   "outputs": [
    {
     "name": "stdout",
     "output_type": "stream",
     "text": [
      " ORT Fue) Used DIESE,\n"
     ]
    }
   ],
   "source": [
    "for i in range(len(l4)):\n",
    "    #if 'Regisuation Ma' in l4[i]:\n",
    "       # r.append(l4[i].split('. ')[1])\n",
    "    #if 'Month and Year of My.' in l4[i]:\n",
    "        #d.append(l4[i].split('. ')[1])\n",
    "    #if 'Chassis Ho ' in l4[i]:\n",
    "        #c.append(l4[i].split('Chassis Ho ')[1].split('No.of')[0])\n",
    "    if 'cage' in l4[i]:\n",
    "        print(l4[i].split('cage')[1])\n",
    "    #if 'Namie' in l4[i]:\n",
    "        #n.append(l4[i].split('Namie')[1])"
   ]
  },
  {
   "cell_type": "code",
   "execution_count": 1322,
   "metadata": {},
   "outputs": [
    {
     "data": {
      "text/plain": [
       "['GOVERMENT OF HAR AMA',\n",
       " 'CERTIFICATE OF REGISTRATION OF MOTOR Form Mo. 23 RULE 46',\n",
       " 'VEHICLE',\n",
       " 'Regisuation Ma. WRI6K 6695',\n",
       " 'mers Namie PMB KAR',\n",
       " 'SO/W OF Al PARKASH',\n",
       " 'Fd AMMSSS 44.46, 922/48, GANDHI WAGAR GAMAUR,SOMPAT,',\n",
       " 'lass OF Vehicle AMM (GAR) Owner Sere 1',\n",
       " '110 A BODY WOT ONBREK Month and Year of My. W208',\n",
       " 'Leake Maite at Mites ANSOMS \"',\n",
       " 'Mowe MAbs) SUZUKI INDIA LID, Cat of Bay a a wonere',\n",
       " 'Make! assihicaliot WRT SMAET BZIRE 201 Norse PowsBHP) 2',\n",
       " '(Chassis Ho ASE JERASOGS7 2805 No.of Cinders &',\n",
       " 'cage ORT Fue) Used DIESE,',\n",
       " 'GV Weight 1805 kgs Valid From hug 2014 Valid pte 06 sy 2028,',\n",
       " '03.01.2017']"
      ]
     },
     "execution_count": 1322,
     "metadata": {},
     "output_type": "execute_result"
    }
   ],
   "source": [
    "l4"
   ]
  },
  {
   "cell_type": "code",
   "execution_count": 1323,
   "metadata": {},
   "outputs": [
    {
     "name": "stdout",
     "output_type": "stream",
     "text": [
      "23\n",
      "23\n",
      "23\n",
      "23\n",
      "23\n"
     ]
    }
   ],
   "source": [
    "print(len(n))\n",
    "print(len(r))\n",
    "print(len(c))\n",
    "print(len(e))\n",
    "print(len(d))"
   ]
  },
  {
   "cell_type": "code",
   "execution_count": 879,
   "metadata": {},
   "outputs": [],
   "source": [
    "p25=('C:\\\\Users\\\\HP\\\\Desktop\\\\opencv image detection\\\\image1\\\\txt_mudit_b8_1_513.jpg')\n",
    "#p22=('C:\\\\Users\\\\HP\\\\Desktop\\\\opencv image detection\\\\image1\\\\txt_mudit_b11_11597.jpg')\n",
    "gray=cv2.cvtColor(cv2.imread(p25), cv2.COLOR_BGR2RGB)\n",
    "#gray = cv2.threshold(gray, 0, 255, cv2.THRESH_BINARY | cv2.THRESH_OTSU)[1]\n",
    "t27=pytesseract.image_to_string(gray)\n",
    "                                #config=r'--oem 3 --psm 6')"
   ]
  },
  {
   "cell_type": "code",
   "execution_count": 882,
   "metadata": {},
   "outputs": [],
   "source": [
    "p26=('C:\\\\Users\\\\HP\\\\Desktop\\\\opencv image detection\\\\image1\\\\txt_mudit_b8_1_571.jpg')\n",
    "#p22=('C:\\\\Users\\\\HP\\\\Desktop\\\\opencv image detection\\\\image1\\\\txt_mudit_b11_11597.jpg')\n",
    "gray=cv2.cvtColor(cv2.imread(p26), cv2.COLOR_BGR2RGB)\n",
    "#gray = cv2.threshold(gray, 0, 255, cv2.THRESH_BINARY | cv2.THRESH_OTSU)[1]\n",
    "t28=pytesseract.image_to_string(gray)\n",
    "                                #config=r'--oem 3 --psm 6')"
   ]
  },
  {
   "cell_type": "code",
   "execution_count": 887,
   "metadata": {},
   "outputs": [],
   "source": [
    "p27=('C:\\\\Users\\\\HP\\\\Desktop\\\\opencv image detection\\\\image1\\\\txt_mudit_b11_12.jpg')\n",
    "#p22=('C:\\\\Users\\\\HP\\\\Desktop\\\\opencv image detection\\\\image1\\\\txt_mudit_b11_11597.jpg')\n",
    "gray=cv2.cvtColor(cv2.imread(p27), cv2.COLOR_BGR2GRAY)\n",
    "#gray = cv2.threshold(gray, 0, 255, cv2.THRESH_BINARY | cv2.THRESH_OTSU)[1]\n",
    "t29=pytesseract.image_to_string(gray)"
   ]
  },
  {
   "cell_type": "code",
   "execution_count": 890,
   "metadata": {},
   "outputs": [],
   "source": [
    "l28=list(filter(bool, t29.split('\\n')))"
   ]
  },
  {
   "cell_type": "code",
   "execution_count": 889,
   "metadata": {},
   "outputs": [],
   "source": [
    "l27=list(filter(bool, t28.split('\\n')))"
   ]
  },
  {
   "cell_type": "code",
   "execution_count": 881,
   "metadata": {},
   "outputs": [],
   "source": [
    "l26=list(filter(bool, t27.split('\\n')))"
   ]
  },
  {
   "cell_type": "code",
   "execution_count": 483,
   "metadata": {},
   "outputs": [],
   "source": [
    "l22=list(filter(bool, t23.split('\\n')))"
   ]
  },
  {
   "cell_type": "code",
   "execution_count": 414,
   "metadata": {},
   "outputs": [],
   "source": [
    "l20=list(filter(bool, t21.split('\\n')))"
   ]
  },
  {
   "cell_type": "code",
   "execution_count": 409,
   "metadata": {},
   "outputs": [],
   "source": [
    "l19=list(filter(bool, t20.split('\\n')))"
   ]
  },
  {
   "cell_type": "code",
   "execution_count": 401,
   "metadata": {},
   "outputs": [],
   "source": [
    "l18=list(filter(bool, t19.split('\\n')))"
   ]
  },
  {
   "cell_type": "code",
   "execution_count": 354,
   "metadata": {},
   "outputs": [],
   "source": [
    "l17=list(filter(bool, t18.split('\\n')))"
   ]
  },
  {
   "cell_type": "code",
   "execution_count": 347,
   "metadata": {},
   "outputs": [],
   "source": [
    "l16=list(filter(bool, t17.split('\\n')))"
   ]
  },
  {
   "cell_type": "code",
   "execution_count": 336,
   "metadata": {},
   "outputs": [],
   "source": [
    "l15=list(filter(bool, t16.split('\\n')))"
   ]
  },
  {
   "cell_type": "code",
   "execution_count": 327,
   "metadata": {},
   "outputs": [],
   "source": [
    "l14=list(filter(bool, t15.split('\\n')))"
   ]
  },
  {
   "cell_type": "code",
   "execution_count": 316,
   "metadata": {},
   "outputs": [],
   "source": [
    "l13=list(filter(bool, t14.split('\\n')))"
   ]
  },
  {
   "cell_type": "code",
   "execution_count": 303,
   "metadata": {},
   "outputs": [],
   "source": [
    "l12=list(filter(bool, t13.split('\\n')))"
   ]
  },
  {
   "cell_type": "code",
   "execution_count": null,
   "metadata": {},
   "outputs": [],
   "source": []
  },
  {
   "cell_type": "code",
   "execution_count": 296,
   "metadata": {},
   "outputs": [],
   "source": [
    "l11=list(filter(bool, t12.split('\\n')))"
   ]
  },
  {
   "cell_type": "code",
   "execution_count": null,
   "metadata": {},
   "outputs": [],
   "source": []
  },
  {
   "cell_type": "code",
   "execution_count": 283,
   "metadata": {},
   "outputs": [],
   "source": [
    "l10=list(filter(bool, t11.split('\\n')))"
   ]
  },
  {
   "cell_type": "code",
   "execution_count": 281,
   "metadata": {},
   "outputs": [],
   "source": [
    "l9=list(filter(bool, t10.split('\\n')))"
   ]
  },
  {
   "cell_type": "code",
   "execution_count": 242,
   "metadata": {},
   "outputs": [],
   "source": [
    "l7=list(filter(bool, t8.split('\\n')))"
   ]
  },
  {
   "cell_type": "code",
   "execution_count": 239,
   "metadata": {},
   "outputs": [],
   "source": [
    "l6=list(filter(bool, t7.split('\\n')))"
   ]
  },
  {
   "cell_type": "code",
   "execution_count": null,
   "metadata": {},
   "outputs": [],
   "source": []
  },
  {
   "cell_type": "code",
   "execution_count": 236,
   "metadata": {},
   "outputs": [],
   "source": [
    "l5=list(filter(bool, t6.split('\\n')))"
   ]
  },
  {
   "cell_type": "code",
   "execution_count": 163,
   "metadata": {},
   "outputs": [],
   "source": [
    "name=[]\n",
    "reg_no=[]\n",
    "date=[]\n",
    "engine=[]\n",
    "chasis=[]"
   ]
  },
  {
   "cell_type": "code",
   "execution_count": 1324,
   "metadata": {},
   "outputs": [],
   "source": [
    "for i in range(len(l1)):\n",
    "    if 'NO : DL9CX 3096' in l1[i]:\n",
    "        reg_no.append(l1[i].split(' : ')[1])\n",
    "    if 'REG. Oy:' in l1[i]:\n",
    "        date.append(l1[i].split(': ')[1])\n",
    "    if 'ENO >' in l1[i]:\n",
    "        engine.append(l1[i].split(' > ')[1].split(' CLASS ')[0])\n",
    "    if 'CH. NO :' in l1[i]:\n",
    "        chasis.append(l1[i].split(' : ')[1].split(' COLOUR ')[0])\n",
    "    if 'NAME' in l1[i]:\n",
    "        name.append(l1[i].split(': ')[1].split(' F')[0])\n",
    "            "
   ]
  },
  {
   "cell_type": "code",
   "execution_count": 1325,
   "metadata": {},
   "outputs": [
    {
     "name": "stdout",
     "output_type": "stream",
     "text": [
      "23\n",
      "23\n",
      "23\n",
      "23\n",
      "23\n"
     ]
    }
   ],
   "source": [
    "print(len(n))\n",
    "print(len(r))\n",
    "print(len(c))\n",
    "print(len(e))\n",
    "print(len(d))"
   ]
  },
  {
   "cell_type": "code",
   "execution_count": 1326,
   "metadata": {},
   "outputs": [],
   "source": [
    "for i in range(len(l26)):\n",
    "    if 'REGN . NO :' in l26[i]:\n",
    "        r.append(l26[i].split(' : ')[1])\n",
    "    if 'REG. DT: ' in l26[i]:\n",
    "        d.append(l26[i].split(': ')[1].split('MFGCD')[0])\n",
    "    if 'ENO' in l26[i]:\n",
    "        e.append(l26[i].split('- ')[1].split(' CLASS ')[0])\n",
    "    if 'CH_NO' in l26[i]:\n",
    "        c.append(l26[i].split(' > ')[1].split(' COLOUR ')[0])\n",
    "    if 'NAME' in l26[i]:\n",
    "        n.append(l26[i].split(': ')[1])"
   ]
  },
  {
   "cell_type": "code",
   "execution_count": 1327,
   "metadata": {},
   "outputs": [
    {
     "name": "stdout",
     "output_type": "stream",
     "text": [
      "24\n",
      "24\n",
      "24\n",
      "24\n",
      "24\n"
     ]
    }
   ],
   "source": [
    "print(len(n))\n",
    "print(len(r))\n",
    "print(len(c))\n",
    "print(len(e))\n",
    "print(len(d))"
   ]
  },
  {
   "cell_type": "code",
   "execution_count": 1329,
   "metadata": {},
   "outputs": [
    {
     "name": "stdout",
     "output_type": "stream",
     "text": [
      "607146KRZW00622\n"
     ]
    }
   ],
   "source": [
    "for i in range(len(l27)):\n",
    "    if 'REGN . NO :' in l27[i]:\n",
    "        r.append(l27[i].split(' : ')[1])\n",
    "    if 'REG. DT: ' in l27[i]:\n",
    "        d.append(l27[i].split(': ')[1].split('MFGCD')[0])\n",
    "    if 'ENO' in l27[i]:\n",
    "        e.append(l27[i].split('=: ')[1].split(' CLASS ')[0])\n",
    "    if 'CH. NO' in l27[i]:\n",
    "        c.append(print(l27[i].split(': ')[1].split(' COLOUR ')[0]))\n",
    "    if 'NAME' in l27[i]:\n",
    "        n.append(l27[i].split(': ')[1])"
   ]
  },
  {
   "cell_type": "code",
   "execution_count": 1330,
   "metadata": {},
   "outputs": [
    {
     "name": "stdout",
     "output_type": "stream",
     "text": [
      "25\n",
      "25\n",
      "25\n",
      "25\n",
      "25\n"
     ]
    }
   ],
   "source": [
    "print(len(n))\n",
    "print(len(r))\n",
    "print(len(c))\n",
    "print(len(e))\n",
    "print(len(d))"
   ]
  },
  {
   "cell_type": "code",
   "execution_count": 1328,
   "metadata": {},
   "outputs": [
    {
     "data": {
      "text/plain": [
       "['qv . ape? oom NT oa hae',\n",
       " 'a insehse~ ae re |pa  s h—',\n",
       " 'qt — Aes | ERA! ~. Oadre. Nii aah at ins. CO aw',\n",
       " 'REGN . NO : DL3CAX6515',\n",
       " 'OSNo : 01',\n",
       " 'REG. DT: 24/04/2009 MFGCD : TATAEL',\n",
       " 'CH. NO : 607146KRZW00622 COLOUR : SCARLET',\n",
       " 'ENO =: 475IDT14KRZPBSR19 CLASS : LM.',\n",
       " 'NAME: VIKAS ENGINEERING WORKS',\n",
       " 'SIWID OF : NA',\n",
       " 'ADDRESS: RZ-F/118/5,SHIV PARK',\n",
       " 'VILLAGE NANGLO} JAT',\n",
       " 'DELHI : 440044',\n",
       " '| HPALEASE: ae',\n",
       " '| MODEL -: INDIGOCSLS . _ Registering Authority',\n",
       " 'BODY : SALOON NO.OF CYL : 4 Sheikh Sarai',\n",
       " 'WHEEL BASE : 0 UNLADEN WT : 1065',\n",
       " 'MFG_DT. : 4092008 SEATINGC : 5',\n",
       " 'FUEL : DIESEL STANDING C : ss ‘',\n",
       " '+ 4405.',\n",
       " '  ',\n",
       " 'REG.UPTO =: 23/04/2024 $CU.CAP']"
      ]
     },
     "execution_count": 1328,
     "metadata": {},
     "output_type": "execute_result"
    }
   ],
   "source": [
    "l27"
   ]
  },
  {
   "cell_type": "code",
   "execution_count": 1331,
   "metadata": {},
   "outputs": [],
   "source": [
    "pd1=pd.DataFrame({'REGISTRATION NO':r, 'DATE':d, 'NAME':n, 'ENGINE NO':e, 'CHASIS NO':c})"
   ]
  },
  {
   "cell_type": "code",
   "execution_count": 1332,
   "metadata": {},
   "outputs": [],
   "source": [
    "import pandas as pd"
   ]
  },
  {
   "cell_type": "code",
   "execution_count": 1333,
   "metadata": {},
   "outputs": [
    {
     "data": {
      "text/plain": [
       "25"
      ]
     },
     "execution_count": 1333,
     "metadata": {},
     "output_type": "execute_result"
    }
   ],
   "source": [
    "len(n)"
   ]
  },
  {
   "cell_type": "code",
   "execution_count": 1334,
   "metadata": {},
   "outputs": [
    {
     "data": {
      "text/plain": [
       "25"
      ]
     },
     "execution_count": 1334,
     "metadata": {},
     "output_type": "execute_result"
    }
   ],
   "source": [
    "len(r)"
   ]
  },
  {
   "cell_type": "code",
   "execution_count": 1335,
   "metadata": {},
   "outputs": [
    {
     "data": {
      "text/plain": [
       "25"
      ]
     },
     "execution_count": 1335,
     "metadata": {},
     "output_type": "execute_result"
    }
   ],
   "source": [
    "len(e)"
   ]
  },
  {
   "cell_type": "code",
   "execution_count": 1336,
   "metadata": {},
   "outputs": [
    {
     "data": {
      "text/plain": [
       "25"
      ]
     },
     "execution_count": 1336,
     "metadata": {},
     "output_type": "execute_result"
    }
   ],
   "source": [
    "len(d)"
   ]
  },
  {
   "cell_type": "code",
   "execution_count": 1337,
   "metadata": {},
   "outputs": [
    {
     "data": {
      "text/plain": [
       "25"
      ]
     },
     "execution_count": 1337,
     "metadata": {},
     "output_type": "execute_result"
    }
   ],
   "source": [
    "len(c)"
   ]
  },
  {
   "cell_type": "code",
   "execution_count": 1339,
   "metadata": {},
   "outputs": [],
   "source": [
    "pd1.to_csv('image1_data.csv')"
   ]
  },
  {
   "cell_type": "code",
   "execution_count": null,
   "metadata": {},
   "outputs": [],
   "source": []
  }
 ],
 "metadata": {
  "kernelspec": {
   "display_name": "Python 3",
   "language": "python",
   "name": "python3"
  },
  "language_info": {
   "codemirror_mode": {
    "name": "ipython",
    "version": 3
   },
   "file_extension": ".py",
   "mimetype": "text/x-python",
   "name": "python",
   "nbconvert_exporter": "python",
   "pygments_lexer": "ipython3",
   "version": "3.6.5"
  }
 },
 "nbformat": 4,
 "nbformat_minor": 4
}
