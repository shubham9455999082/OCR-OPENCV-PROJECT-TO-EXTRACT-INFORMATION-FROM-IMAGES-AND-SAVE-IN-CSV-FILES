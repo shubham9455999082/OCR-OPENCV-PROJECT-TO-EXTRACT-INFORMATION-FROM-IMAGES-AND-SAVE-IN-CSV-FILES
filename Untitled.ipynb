{
 "cells": [
  {
   "cell_type": "code",
   "execution_count": 2,
   "metadata": {},
   "outputs": [],
   "source": [
    "import numpy as np\n",
    "import cv2\n",
    "import pytesseract"
   ]
  },
  {
   "cell_type": "code",
   "execution_count": 3,
   "metadata": {},
   "outputs": [],
   "source": [
    "pytesseract.pytesseract.tessercat_cmd=r'C:\\Program Files\\Tesseract-OCR'"
   ]
  },
  {
   "cell_type": "code",
   "execution_count": 49,
   "metadata": {},
   "outputs": [],
   "source": [
    "# Path of working folder on Disk\n",
    "#src_path = \"C:\\\\Users\\\\HP\\\\Desktop\\\\opencv image detection\\\\image 3\\\\txt_mudit_b11_439.jpg\"\n",
    "\n",
    "#def get_string(img_path):\n",
    "    # Read image with opencv\n",
    "   # img = cv2.imread(img_path)\n",
    "\n",
    "    # Convert to gray\n",
    "    #img = cv2.cvtColor(img, cv2.COLOR_BGR2GRAY)\n",
    "\n",
    "    # Apply dilation and erosion to remove some noise\n",
    "    #kernel = np.ones((1, 1), np.uint8)\n",
    "    #img = cv2.dilate(img, kernel, iterations=1)\n",
    "    #img = cv2.erode(img, kernel, iterations=1)\n",
    "\n",
    "    # Write image after removed noise\n",
    "    #cv2.imwrite(src_path + \"txt_mudit_b11_43911.jpg\", img)\n",
    "\n",
    "    #  Apply threshold to get image with only black and white\n",
    "    #img = cv2.adaptiveThreshold(img, 255, cv2.ADAPTIVE_THRESH_GAUSSIAN_C, cv2.THRESH_BINARY, 31, 2)\n",
    "\n",
    "    # Write the image after apply opencv to do some ...\n",
    "    #cv2.imwrite(src_path + \"thres.png\", img)\n",
    "\n",
    "    # Recognize text with tesseract for python\n",
    "    #result = pytesseract.image_to_string(Image.open(src_path + \"thres.png\"))\n",
    "\n",
    "    # Remove template file\n",
    "    #os.remove(temp)\n",
    "\n",
    "    #return result\n",
    "\n",
    "\n",
    "#print('--- Start recognize text from image ---')\n",
    "#print(get_string(src_path + \"2.png\"))\n",
    "\n",
    "#print(\"------ Done -------\")"
   ]
  },
  {
   "cell_type": "code",
   "execution_count": null,
   "metadata": {},
   "outputs": [],
   "source": []
  },
  {
   "cell_type": "code",
   "execution_count": 53,
   "metadata": {},
   "outputs": [
    {
     "name": "stdout",
     "output_type": "stream",
     "text": [
      "Licence No. 34984 ‘11/01/2008\n",
      "Name. DAVINDER SINGH\n",
      "\n",
      "S/D/W/o MOHINDER SINGH\n",
      "Address  VPO.NANGAL KHURD\n",
      "\n",
      "SONIPAT HARYANA\n",
      "Date of Birth 01/05/1972 Blood GroupO+\n",
      "\n",
      "Vehicle Class penne {aa 7\n",
      "=\n",
      "\n",
      "se a\n",
      "\n",
      " \n",
      "\n",
      "ee pir\n",
      "\n",
      "LMA af\n"
     ]
    }
   ],
   "source": [
    "print(pytesseract.image_to_string(cv2.imread('C:\\\\Users\\\\HP\\\\Desktop\\\\opencv image detection\\\\image 2\\\\txt_mudit_b8_1_806.jpg'), config='-l eng --oem 1 --psm 3'))"
   ]
  },
  {
   "cell_type": "code",
   "execution_count": 120,
   "metadata": {},
   "outputs": [],
   "source": [
    "img='C:\\\\Users\\\\HP\\\\Desktop\\\\opencv image detection\\\\image 2\\\\txt_mudit_b8_1_808.jpg'\n",
    "im=cv2.imread(img,0)"
   ]
  },
  {
   "cell_type": "code",
   "execution_count": 118,
   "metadata": {},
   "outputs": [],
   "source": [
    "img = cv2.cvtColor(im, cv2.COLOR_BGR2RGB)"
   ]
  },
  {
   "cell_type": "code",
   "execution_count": 123,
   "metadata": {},
   "outputs": [
    {
     "name": "stdout",
     "output_type": "stream",
     "text": [
      "‘Name/Brand of Vehicle VERNA 1.SCRDIVGT MT -\n",
      "Maker's Name HYUNDAI MOTORS INDIA LTD.\n",
      "Vehicle Class LMV (MOTOR CAR)\n",
      "| No.of Cylinders 4 Cubic Capacity 1493CC\n",
      "Lnladen Weight(kg) {099K Colour HW(Cry.White)\n",
      "Type of Body SALOON. a\n",
      "H.P.A./ Lease Agg. Syndicate bank We\n",
      "Dealer's Name MALWA AUTO SALES em,\n",
      "Address KUNDLI, SONIPAT Bate\n",
      "Registration Valid Upto 30/12/2024 #5)\n",
      "Road Tax Paid Upto One Time Ko\n",
      "Date of Issue 19/05/2010 Pe\n",
      "a\n",
      "- men Signature >. AHORITY\n",
      "— of Regd. Owner MVSONERM OO, 175\n",
      "oe '\n"
     ]
    }
   ],
   "source": [
    "print(pytesseract.image_to_string(img, config=r'--oem 3 --psm 6'))"
   ]
  },
  {
   "cell_type": "code",
   "execution_count": 121,
   "metadata": {},
   "outputs": [],
   "source": [
    "ret, thresh1=cv2.threshold(im, 210, 255, cv2.THRESH_OTSU)"
   ]
  },
  {
   "cell_type": "code",
   "execution_count": 126,
   "metadata": {},
   "outputs": [
    {
     "name": "stdout",
     "output_type": "stream",
     "text": [
      "a %\n",
      "-vame/Brand of Vehicle VERNA LS5CRDIVGT MT\n",
      "‘faker's Name HYUNDAI MOTORS INDIA LTD.\n",
      "Vehicle Class LMV (MOTOR CAR)\n",
      "No.of Cylinders 4 Cubic Capacity 1493CC\n",
      "-nladen Weight(kg) 1099K Colour HW(Cry.White)  ~%,\n",
      "Type of Body SALOON\n",
      "H.P.A./ Lease Agg. Syndicate bank Oy\n",
      "Dealer's Name MALWA AUTO SALES |\n",
      "Address KUNDLI, SONIPAT vm\n",
      "Registration Valid Upto 30/12/2024 8\n",
      "vad Tax Paid Upto One Time bey\n",
      "Date of Issue 19/05/2010 a\n",
      "— Specimen Signature yy. A,\n",
      "oh. of Regd. Owner MV SOMPATO Net, jails\n"
     ]
    }
   ],
   "source": [
    "print(pytesseract.image_to_string(thresh1,config=r'--oem 3 --psm 6'))"
   ]
  },
  {
   "cell_type": "code",
   "execution_count": 13,
   "metadata": {},
   "outputs": [],
   "source": [
    "ret, thresh1=cv2.threshold('C:\\\\Users\\\\HP\\\\Desktop\\\\opencv image detection\\\\image 3\\\\txt_mudit_b11_439.jpg, 2100, 2550, cv2.THRESH_OTSU)"
   ]
  },
  {
   "cell_type": "markdown",
   "metadata": {},
   "source": [
    "# image cleaning and noise removing "
   ]
  },
  {
   "cell_type": "markdown",
   "metadata": {},
   "source": [
    "now we work on the rough images we will remove noise and convert it into threshold"
   ]
  },
  {
   "cell_type": "code",
   "execution_count": 169,
   "metadata": {},
   "outputs": [],
   "source": [
    "p1='C:\\\\Users\\\\HP\\\\Desktop\\\\opencv image detection\\\\image 2\\\\txt_mudit_b8_1_545.jpg'\n",
    "i1=cv2.imread(p1)\n",
    "#ret, thresh1=cv2.threshold(i1, 210, 255, cv2.THRESH_OTSU)\n",
    "gray = cv2.cvtColor(image, cv2.COLOR_BGR2GRAY)\n",
    "#gray = cv2.cvtColor(i1, cv2.COLOR_BGR2RGB)\n",
    "gray = cv2.threshold(gray, 0, 255, cv2.THRESH_BINARY | cv2.THRESH_OTSU)[1]\n",
    "t1=pytesseract.image_to_string(gray)"
   ]
  },
  {
   "cell_type": "code",
   "execution_count": 282,
   "metadata": {},
   "outputs": [],
   "source": [
    "img = cv2.cvtColor(i1, cv2.COLOR_BGR2RGB)\n",
    "t2=pytesseract.image_to_string(img, config=r'--oem 3 --psm 6')"
   ]
  },
  {
   "cell_type": "code",
   "execution_count": 284,
   "metadata": {},
   "outputs": [
    {
     "name": "stdout",
     "output_type": "stream",
     "text": [
      "‘ =A om:\n",
      "} , ARUTE UDYOG LTb.\n",
      "| Vehicle Class _ LMV(MOTOR CAR) —\n",
      "; No.of Cylinders 4 Cubic Capacity 1061CC\n",
      "_ __Unladen Weight(kg) 825K Colour S§ WHITE\n",
      "' Type of Body SALOON\n",
      "m™  H.P.A./ Lease Agg. MAGMA SHRACHI FIN\n",
      "s Dealer's Name JAGMOHAN MOTORS\n",
      "- Address SONIPAT\n",
      "B® — Registration Valid Upto 22/01/2023\n",
      "Road Tax Paid Upto One Time 4 |\n",
      "| Date of Issue 10/03/2008 ( | ’\n",
      ". Specimen Signature —~~ % ;\n",
      "—— <n Ml arene” nnsiemen is cop enieuey |\n"
     ]
    }
   ],
   "source": [
    "print(t2)"
   ]
  },
  {
   "cell_type": "code",
   "execution_count": 189,
   "metadata": {},
   "outputs": [],
   "source": [
    "s=list(filter(bool,t2.split('\\n')))"
   ]
  },
  {
   "cell_type": "code",
   "execution_count": 1107,
   "metadata": {},
   "outputs": [],
   "source": [
    "s1={}\n",
    "for i in range(len(s)):\n",
    "    if 'ion' in s[i]:\n",
    "        s1['REGISTRATION NO.']=s[i].split(' No. ')[1].split(' d')[0]\n",
    "    if 'Name' in s[i]:\n",
    "        s1['NAME']=s[i].split('Address ')[1]\n",
    "    if 'Chasis No' in s[i]:\n",
    "        s1['CHASIS NO']=s[i].split(' No.')[1]\n",
    "    if 'Month/ Year of Manufacture' in s[i]:\n",
    "        s1['DATE']=s[i].split(' Manufacture ')[1]\n",
    "    if 'Engine No.' in s[i]:\n",
    "        s1['ENGINE NO']=s[i].split(' No. ')[1]"
   ]
  },
  {
   "cell_type": "code",
   "execution_count": 1108,
   "metadata": {},
   "outputs": [
    {
     "data": {
      "text/plain": [
       "{'REGISTRATION NO.': 'HR42-A-4854',\n",
       " 'NAME': 'ASHWAN',\n",
       " 'CHASIS NO': ' MA3EED81S00628175',\n",
       " 'ENGINE NO': 'F10DN4452456',\n",
       " 'DATE': '23/01/2008'}"
      ]
     },
     "execution_count": 1108,
     "metadata": {},
     "output_type": "execute_result"
    }
   ],
   "source": [
    "s1"
   ]
  },
  {
   "cell_type": "code",
   "execution_count": null,
   "metadata": {},
   "outputs": [],
   "source": []
  },
  {
   "cell_type": "code",
   "execution_count": 285,
   "metadata": {},
   "outputs": [],
   "source": [
    "p2='C:\\\\Users\\\\HP\\\\Desktop\\\\opencv image detection\\\\image 2\\\\txt_mudit_b8_1_546.jpg'\n",
    "image=cv2.imread(p2)\n",
    "#ret, thresh1=cv2.threshold(i1, 210, 255, cv2.THRESH_OTSU)\n",
    "gray = cv2.cvtColor(image, cv2.COLOR_BGR2GRAY)\n",
    "#gray = cv2.cvtColor(i1, cv2.COLOR_BGR2RGB)\n",
    "gray = cv2.threshold(gray, 0, 255, cv2.THRESH_BINARY | cv2.THRESH_OTSU)[1]\n",
    "t1=pytesseract.image_to_string(gray)"
   ]
  },
  {
   "cell_type": "code",
   "execution_count": 287,
   "metadata": {},
   "outputs": [],
   "source": [
    "l1=list(filter(bool,t1.split('\\n')))"
   ]
  },
  {
   "cell_type": "code",
   "execution_count": 313,
   "metadata": {},
   "outputs": [],
   "source": [
    "import re"
   ]
  },
  {
   "cell_type": "code",
   "execution_count": 380,
   "metadata": {},
   "outputs": [],
   "source": [
    "s2={}\n",
    "for i in range(len(l1)):\n",
    "    if 'Date' in l1[i]:\n",
    "        #s2['DATE']=re.sub('/.*$','',l1[i].split(':')[0])\n",
    "        s2['DATE']=l1[i].split(':')[0][14:24]\n",
    "    #.re.sub('/.*$','',s)\n",
    "    if 'Maker' in l1[i]:\n",
    "        s2['NAME']=l1[i].split(',')[-1]\n",
    "    if 'Name/Brand' in l1[i]:\n",
    "        s2['BRAND']=l1[i][14:]\n",
    "    #if 'Month/ Year of Manufacture' in l1[i]:\n",
    "        #s2['MFG. DATE']=l1[i]\n",
    "    if 'Engine No.' in l1[i]:\n",
    "        s2['ENGINE NO']=l1[i]\n",
    "    if 'Address' in l1[i]:\n",
    "        s2['ADDRESS']=l1[i][8:]\n",
    "    if 'Dealer' in l1[i]:\n",
    "        s2['DEALER NAME']=l1[i][14:]"
   ]
  },
  {
   "cell_type": "code",
   "execution_count": 381,
   "metadata": {},
   "outputs": [
    {
     "data": {
      "text/plain": [
       "{'BRAND': 'Vehicle WAGNOR,LAG E-IE',\n",
       " 'NAME': ' MARUTEUDYOG LTD.',\n",
       " 'DEALER NAME': 'JAGMOHAN MOTORS',\n",
       " 'ADDRESS': 'SONIPAT',\n",
       " 'DATE': '10/03/2008'}"
      ]
     },
     "execution_count": 381,
     "metadata": {},
     "output_type": "execute_result"
    }
   ],
   "source": [
    "#s2['DATE'][:-str(s2['DATE']).find('date of Issues')][]\n",
    "s2"
   ]
  },
  {
   "cell_type": "markdown",
   "metadata": {},
   "source": [
    "### LOADING 3RD IMAGE"
   ]
  },
  {
   "cell_type": "code",
   "execution_count": 382,
   "metadata": {},
   "outputs": [],
   "source": [
    "p3='C:\\\\Users\\\\HP\\\\Desktop\\\\opencv image detection\\\\image 2\\\\txt_mudit_b8_1_554.jpg'\n",
    "image=cv2.imread(p3)\n",
    "#ret, thresh1=cv2.threshold(i1, 210, 255, cv2.THRESH_OTSU)\n",
    "gray = cv2.cvtColor(image, cv2.COLOR_BGR2GRAY)\n",
    "#gray = cv2.cvtColor(i1, cv2.COLOR_BGR2RGB)\n",
    "gray = cv2.threshold(gray, 0, 255, cv2.THRESH_BINARY | cv2.THRESH_OTSU)[1]\n",
    "t1=pytesseract.image_to_string(gray)"
   ]
  },
  {
   "cell_type": "code",
   "execution_count": 386,
   "metadata": {},
   "outputs": [],
   "source": [
    "l2=list(filter(bool,t1.split('\\n')))"
   ]
  },
  {
   "cell_type": "code",
   "execution_count": 1127,
   "metadata": {},
   "outputs": [],
   "source": [
    "s3={}\n",
    "for i in range(len(l2)):\n",
    "    if 'Registration No.' in l2[i]:\n",
    "        s3['REGISTRATION NO.']=l2[i].split('.')[-1][0:12]\n",
    "    if 'Name' in l2[i]:\n",
    "        s3['NAME']=l2[i].split('&')[-1][9:22]\n",
    "    if 'Chasis No' in l2[i]:\n",
    "        s3['CHASIS NO']=l2[i].split('- ')[-1][0:17]\n",
    "    if 'Engine No.' in l2[i]:\n",
    "        s3['ENGINE NO']=l2[i].split('. ')[1][0:12]\n",
    "    if '. _ Month/Yrof' in l2[i]:\n",
    "        s3['DATE']=l2[i].split('= ')[-1][0:10]"
   ]
  },
  {
   "cell_type": "code",
   "execution_count": 1129,
   "metadata": {},
   "outputs": [
    {
     "data": {
      "text/plain": [
       "{'REGISTRATION NO.': ' HR10-P-0840',\n",
       " 'NAME': 'SANDEEP LAKRA',\n",
       " 'CHASIS NO': 'MALCG41GLAM255721',\n",
       " 'ENGINE NO': 'G4EB9M256677',\n",
       " 'DATE': '20/01/2010'}"
      ]
     },
     "execution_count": 1129,
     "metadata": {},
     "output_type": "execute_result"
    }
   ],
   "source": [
    "s3"
   ]
  },
  {
   "cell_type": "code",
   "execution_count": 493,
   "metadata": {},
   "outputs": [],
   "source": [
    "p4='C:\\\\Users\\\\HP\\\\Desktop\\\\opencv image detection\\\\image 2\\\\txt_mudit_b8_1_555.jpg'\n",
    "image=cv2.imread(p4)\n",
    "#ret, thresh1=cv2.threshold(i1, 210, 255, cv2.THRESH_OTSU)\n",
    "gray = cv2.cvtColor(image, cv2.COLOR_BGR2GRAY)\n",
    "#gray = cv2.cvtColor(i1, cv2.COLOR_BGR2RGB)\n",
    "gray = cv2.threshold(gray, 0, 255, cv2.THRESH_BINARY | cv2.THRESH_OTSU)[1]\n",
    "t2=pytesseract.image_to_string(gray,config=r'--oem 3 --psm 6')"
   ]
  },
  {
   "cell_type": "code",
   "execution_count": 50,
   "metadata": {},
   "outputs": [],
   "source": [
    "#text=pytesseract.image_to_string(ret)\n",
    "#, config='-l eng --oem 1 --psm 3')\n",
    "#config=r'--oem 3 --psm 6'))"
   ]
  },
  {
   "cell_type": "code",
   "execution_count": 528,
   "metadata": {},
   "outputs": [],
   "source": [
    "l4=list(filter(bool, t2.split('\\n')))"
   ]
  },
  {
   "cell_type": "code",
   "execution_count": 530,
   "metadata": {},
   "outputs": [
    {
     "data": {
      "text/plain": [
       "['waeBrand of Vehicle ACCENT-MT-GLE oo',\n",
       " 'er’s Name HYUNDAI MOTORS INDIA LTD.',\n",
       " 'i Vehicle Class LMV (MOTOR CAR)',\n",
       " '! Ne.of Cylinders 4 Cubic Capacity 1495CC',\n",
       " 'Untaden Weight(kg) 1039 Colour GT C WHITE',\n",
       " '‘ Type of Body SEDAN',\n",
       " '*  H.P.A./ Lease Agg. SBOP',\n",
       " \"+ Dealer's Name MALWA AUTO SALES *\",\n",
       " 'Y Address KUNDLI',\n",
       " '‘s. Registration Valid Upto. 19/01/2025 .',\n",
       " 'ih Road Tax Paid Upto One Time',\n",
       " '[re Date of Issue 03/03/2010',\n",
       " 'i Specimen Signature R AUT Hae Lames',\n",
       " ': of Regd. Owner M.V. SONSMRCY ag Se ae',\n",
       " 'race']"
      ]
     },
     "execution_count": 530,
     "metadata": {},
     "output_type": "execute_result"
    }
   ],
   "source": [
    "l4"
   ]
  },
  {
   "cell_type": "code",
   "execution_count": null,
   "metadata": {},
   "outputs": [],
   "source": []
  },
  {
   "cell_type": "code",
   "execution_count": 618,
   "metadata": {},
   "outputs": [],
   "source": [
    "s4={}\n",
    "for i in range(len(l4)):\n",
    "    if 'Brand of Vehicle' in l4[i]:\n",
    "        s4['BRAND']=l4[i][20:33]\n",
    "    if 'er’s Name' in l4[i]:\n",
    "        s4['MAKERS NAME']=l4[i][10:]\n",
    "    if 'Dealer' in l4[i]:\n",
    "          s4['dealers name']=l4[i][16:].split(' *')[0]\n",
    "    if 'Address' in l4[i]:\n",
    "        s4['ADDRESS']=l4[i][10:]\n",
    "    if 'Registration Valid Upto' in l4[i]:\n",
    "        s4['Registration Valid Upto']=l4[i][29:].split(' .')[0]\n",
    "    if 'Date of Issue' in l4[i]:\n",
    "        s4['Date of Issue']=l4[i].split(' Issue ')[-1]\n",
    "    "
   ]
  },
  {
   "cell_type": "code",
   "execution_count": 628,
   "metadata": {},
   "outputs": [],
   "source": [
    "p5='C:\\\\Users\\\\HP\\\\Desktop\\\\opencv image detection\\\\image 2\\\\txt_mudit_b8_1_742.jpg'\n",
    "image=cv2.imread(p5)\n",
    "#ret, thresh1=cv2.threshold(i1, 210, 255, cv2.THRESH_OTSU)\n",
    "gray = cv2.cvtColor(image, cv2.COLOR_BGR2GRAY)\n",
    "#gray = cv2.cvtColor(i1, cv2.COLOR_BGR2RGB)\n",
    "gray = cv2.threshold(gray, 0, 255, cv2.THRESH_BINARY | cv2.THRESH_OTSU)[1]\n",
    "t2=pytesseract.image_to_string(gray)\n",
    "                               #,config=r'--oem 3 --psm 6')"
   ]
  },
  {
   "cell_type": "code",
   "execution_count": 632,
   "metadata": {},
   "outputs": [],
   "source": [
    "img = cv2.cvtColor(image, cv2.COLOR_BGR2GRAY)\n",
    "t4=pytesseract.image_to_string(img)\n",
    "                               #, config=r'--oem 3 --psm 6')"
   ]
  },
  {
   "cell_type": "code",
   "execution_count": 633,
   "metadata": {},
   "outputs": [
    {
     "name": "stdout",
     "output_type": "stream",
     "text": [
      "wie fa ee\n",
      "\n",
      "   \n",
      "   \n",
      " \n",
      "  \n",
      "   \n",
      "    \n",
      "   \n",
      "     \n",
      "      \n",
      "     \n",
      "     \n",
      "\n",
      "REGN . NO: DL3CAD3216\n",
      "\n",
      " \n",
      "\n",
      "G. DT: 31/01/2005 Meoco : MUL\n",
      "NO : MA3EBE41S00 430299 COLOUR : P. SILVER\n",
      ": G13BBN 190141 CLASS +: LIMLV.\n",
      "NAME: MAHABIR SINGH i\n",
      "S/WID OF | CHANDER BHAN :\n",
      "ADDRESS: 8-40 IIND FLOOR SANJAY NGR }\n",
      "\n",
      "MANGOL PUR KALAN\n",
      "NEW DELHI 110085\n",
      "\n",
      "Registering Authority\n",
      "NO.OF CYL: 4 Sheikh Sarai\n",
      "UNLADEN WT : 875\n",
      "SEATINGC : 5 ee\n",
      "STANDING C : é |\n",
      "CU.CAP : 129 ena\n",
      "\n",
      "   \n",
      " \n",
      "\n",
      "We) AGT) ee)\n"
     ]
    }
   ],
   "source": [
    "print(t4)"
   ]
  },
  {
   "cell_type": "code",
   "execution_count": 645,
   "metadata": {},
   "outputs": [],
   "source": [
    "ret, thresh1=cv2.threshold(img, 2100, 2550, cv2.THRESH_OTSU | cv2.THRESH_BINARY)"
   ]
  },
  {
   "cell_type": "code",
   "execution_count": 646,
   "metadata": {},
   "outputs": [
    {
     "name": "stdout",
     "output_type": "stream",
     "text": [
      "107.0\n"
     ]
    }
   ],
   "source": [
    "print(ret)"
   ]
  },
  {
   "cell_type": "code",
   "execution_count": 652,
   "metadata": {},
   "outputs": [],
   "source": [
    "t4=pytesseract.image_to_string(thresh1,config=r'--oem 3 --psm 6')"
   ]
  },
  {
   "cell_type": "code",
   "execution_count": 653,
   "metadata": {},
   "outputs": [],
   "source": [
    "l5=list(filter(bool, t4.split('\\n')))"
   ]
  },
  {
   "cell_type": "code",
   "execution_count": 1120,
   "metadata": {},
   "outputs": [],
   "source": [
    "s5={}\n",
    "for i in range(len(l5)):\n",
    "    if 'REGN' in l5[i]:\n",
    "        s5['REGISTRATION NO.']=l5[i].split(': ')[1].split(' |')[0]\n",
    "    if 'DT' in l5[i]:\n",
    "        s5['DATE']=l5[i].split(': ')[1].split(' MPO ')[0]\n",
    "    if 'NO :' in l5[i]:\n",
    "        s5['CHASIS NO']=l5[i].split(': ')[1].split(' COLOUR ')[0]\n",
    "    if 'D =' in l5[i]:\n",
    "        s5['ENGINE NO']=l5[i].split(' = ')[1].split(' CLASS ')[0]\n",
    "    if 'NAME' in l5[i]:\n",
    "        s5['NAME']=l5[i].split(': ')[1].split(' ;')[0]"
   ]
  },
  {
   "cell_type": "code",
   "execution_count": 1121,
   "metadata": {},
   "outputs": [
    {
     "data": {
      "text/plain": [
       "{'REGISTRATION NO.': 'DL3CAD3216',\n",
       " 'DATE': '31/01/2005',\n",
       " 'CHASIS NO': 'MA3EBE41S00 430299',\n",
       " 'ENGINE NO': 'G1I3BBN 190141',\n",
       " 'NAME': 'MAHABIR SINGH'}"
      ]
     },
     "execution_count": 1121,
     "metadata": {},
     "output_type": "execute_result"
    }
   ],
   "source": [
    "s5"
   ]
  },
  {
   "cell_type": "code",
   "execution_count": 739,
   "metadata": {},
   "outputs": [],
   "source": [
    "p5='C:\\\\Users\\\\HP\\\\Desktop\\\\opencv image detection\\\\image 2\\\\txt_mudit_b8_1_806.jpg'\n",
    "image=cv2.imread(p5)\n",
    "#ret, thresh1=cv2.threshold(i1, 210, 255, cv2.THRESH_OTSU)\n",
    "gray = cv2.cvtColor(image, cv2.COLOR_BGR2GRAY)\n",
    "#gray = cv2.cvtColor(i1, cv2.COLOR_BGR2RGB)\n",
    "gray = cv2.threshold(gray, 0, 255, cv2.THRESH_BINARY | cv2.THRESH_OTSU)[1]\n",
    "t5=pytesseract.image_to_string(gray)"
   ]
  },
  {
   "cell_type": "code",
   "execution_count": 740,
   "metadata": {},
   "outputs": [
    {
     "name": "stdout",
     "output_type": "stream",
     "text": [
      "BRIVING LICENCE\n",
      "\n",
      "Licence No. 7 34984 a 11/01/2008\n",
      "\n",
      "Name. DAVINDER SINGH\n",
      "\n",
      "SID/Wio MOHINDER SINGH\n",
      "\n",
      "Address VPO.NANGAL KHURD\n",
      "SONIPAT HARYANA\n",
      "\n",
      "Date of Birth 01/05/1972 Bleod GroupO+\n",
      "\n",
      "Vehicle Class Scooter/M.Cycle/Car/Jeg\n",
      "Only \\ -\n"
     ]
    }
   ],
   "source": [
    "print(t5)"
   ]
  },
  {
   "cell_type": "code",
   "execution_count": 776,
   "metadata": {},
   "outputs": [],
   "source": [
    "p5='C:\\\\Users\\\\HP\\\\Desktop\\\\opencv image detection\\\\image 2\\\\txt_mudit_b8_1_806.jpg'\n",
    "image=cv2.imread(p5)\n",
    "image=cv2.imread(p5)\n",
    "#ret, thresh1=cv2.threshold(image, 2100, 2550, cv2.THRESH_OTSU | cv2.THRESH_BINARY)\n",
    "#t5=pytesseract.image_to_string(img)"
   ]
  },
  {
   "cell_type": "code",
   "execution_count": 777,
   "metadata": {},
   "outputs": [],
   "source": [
    "img = cv2.cvtColor(image, cv2.COLOR_BGR2GRAY)"
   ]
  },
  {
   "cell_type": "code",
   "execution_count": 778,
   "metadata": {},
   "outputs": [],
   "source": [
    "t5=pytesseract.image_to_string(img)"
   ]
  },
  {
   "cell_type": "code",
   "execution_count": 779,
   "metadata": {},
   "outputs": [
    {
     "name": "stdout",
     "output_type": "stream",
     "text": [
      "DRIVING LICENCE\n",
      "\n",
      "Licence No. . 34984 ae 11/01/2008\n",
      "\n",
      "Name. DAVINDER SINGH\n",
      "\n",
      "siD/Wio MOHINDER SINGH\n",
      "\n",
      "Address VPO.NANGAL KHURD\n",
      "SONIPAT HARYANA\n",
      "\n",
      "Date of Birth 01/05/1972 Blood GroupO+\n",
      "\n",
      "Vehicle Class Scooter/M.Cycle/Car/Jee\n",
      "Only : a\n"
     ]
    }
   ],
   "source": [
    "print(t5)"
   ]
  },
  {
   "cell_type": "code",
   "execution_count": 757,
   "metadata": {},
   "outputs": [],
   "source": [
    "p6='C:\\\\Users\\\\HP\\\\Desktop\\\\opencv image detection\\\\image 2\\\\txt_mudit_b8_1_807.jpg'\n",
    "image=cv2.imread(p6)\n",
    "#ret, thresh1=cv2.threshold(i1, 210, 255, cv2.THRESH_OTSU)\n",
    "gray = cv2.cvtColor(image, cv2.COLOR_BGR2GRAY)\n",
    "#gray = cv2.cvtColor(i1, cv2.COLOR_BGR2RGB)\n",
    "gray = cv2.threshold(gray, 0, 255, cv2.THRESH_BINARY | cv2.THRESH_OTSU)[1]\n",
    "t6=pytesseract.image_to_string(gray,config=r'--oem 3 --psm 6')"
   ]
  },
  {
   "cell_type": "code",
   "execution_count": 758,
   "metadata": {},
   "outputs": [
    {
     "name": "stdout",
     "output_type": "stream",
     "text": [
      "e GOVERNMENT OF HARYANA 4\n",
      "| CERTIFICATE OF REGISTRATION\n",
      "COs (FORM NO. 23 RULE 48) |\n",
      "Regit Mion No. HR1i0-P-5470\n",
      "Name & Address = DAVENDER SINGH :\n",
      "of Reed. Owner S/o MAHENDER SINGH .\n",
      "VPO. NANGAL KHURD,\n",
      "DISTT. SONIPAT\n",
      "Previous Regn. No. N/A |\n",
      "Previous Owner N/A :\n",
      "Chasis No. MALCM41VR9M079263*L\n",
      "of Engine No. D4FA9U817848 7\n",
      " Month/ Yr of 31/12/2009 4\n",
      "\\e Seating Capacity = 5 (including driver) | | 4\n",
      "‘ Fuel Used Diesel | ad\n",
      ".- 26 a 0G a ae\n"
     ]
    }
   ],
   "source": [
    "print(t6)"
   ]
  },
  {
   "cell_type": "code",
   "execution_count": 762,
   "metadata": {},
   "outputs": [],
   "source": [
    "img = cv2.cvtColor(image, cv2.COLOR_BGR2RGB)"
   ]
  },
  {
   "cell_type": "code",
   "execution_count": 763,
   "metadata": {},
   "outputs": [],
   "source": [
    "t6=pytesseract.image_to_string(img)"
   ]
  },
  {
   "cell_type": "code",
   "execution_count": 764,
   "metadata": {},
   "outputs": [
    {
     "name": "stdout",
     "output_type": "stream",
     "text": [
      "GOVERNMENT OF HARYANA\n",
      "CERTIFICATE OF REGISTRATION :\n",
      "(FORM NO. 23 RULE 48)\n",
      "\n",
      "Reg ion No. HR10-P-5470\n",
      "Name & Address = DAVENDER SINGH |\n",
      "of Regd. Owner S/o MAHENDER SINGH r\n",
      "\n",
      "VPO. NANGAL KHURD, q\n",
      "\n",
      "DISTT. SONIPAT ;\n",
      "Previous Regn. No. N/A\n",
      "Previous Owner N/A\n",
      "\n",
      "  \n",
      "\n",
      "Chasis No. MALCM41VR9M079263* L\n",
      "Engine No. D4FA9U817848\n",
      "Month/ Yr of 31/12/2009\n",
      "\n",
      "Seating Capacity 5 (including driver)\n",
      "\n",
      "Fuel Used Diesel\n"
     ]
    }
   ],
   "source": [
    "print(t6)"
   ]
  },
  {
   "cell_type": "code",
   "execution_count": 784,
   "metadata": {},
   "outputs": [],
   "source": [
    "t6c=t5+'\\n '+t6"
   ]
  },
  {
   "cell_type": "code",
   "execution_count": 785,
   "metadata": {},
   "outputs": [
    {
     "name": "stdout",
     "output_type": "stream",
     "text": [
      "DRIVING LICENCE\n",
      "\n",
      "Licence No. . 34984 ae 11/01/2008\n",
      "\n",
      "Name. DAVINDER SINGH\n",
      "\n",
      "siD/Wio MOHINDER SINGH\n",
      "\n",
      "Address VPO.NANGAL KHURD\n",
      "SONIPAT HARYANA\n",
      "\n",
      "Date of Birth 01/05/1972 Blood GroupO+\n",
      "\n",
      "Vehicle Class Scooter/M.Cycle/Car/Jee\n",
      "Only : a\n",
      " GOVERNMENT OF HARYANA\n",
      "CERTIFICATE OF REGISTRATION :\n",
      "(FORM NO. 23 RULE 48)\n",
      "\n",
      "Reg ion No. HR10-P-5470\n",
      "Name & Address = DAVENDER SINGH |\n",
      "of Regd. Owner S/o MAHENDER SINGH r\n",
      "\n",
      "VPO. NANGAL KHURD, q\n",
      "\n",
      "DISTT. SONIPAT ;\n",
      "Previous Regn. No. N/A\n",
      "Previous Owner N/A\n",
      "\n",
      "  \n",
      "\n",
      "Chasis No. MALCM41VR9M079263* L\n",
      "Engine No. D4FA9U817848\n",
      "Month/ Yr of 31/12/2009\n",
      "\n",
      "Seating Capacity 5 (including driver)\n",
      "\n",
      "Fuel Used Diesel\n"
     ]
    }
   ],
   "source": [
    "print(t6c)"
   ]
  },
  {
   "cell_type": "code",
   "execution_count": 786,
   "metadata": {},
   "outputs": [],
   "source": [
    "l6=list(filter(bool,t6c.split('\\n')))"
   ]
  },
  {
   "cell_type": "code",
   "execution_count": 1147,
   "metadata": {},
   "outputs": [],
   "source": [
    "s6={}\n",
    "for i in range(len(l6)):\n",
    "    if 'Name.' in l6[i]:\n",
    "        s6['NAME']=l6[i].split('. ')[1]\n",
    "    if 'Licence No. .' in l6[i]:\n",
    "        s6['LICENSE NO.']=l6[i].split(' . ')[-1].split(' ae ')[0]\n",
    "    if 'Reg ion No.' in l6[i]:\n",
    "        s6['REGISTRATION NO.']=l6[i].split('. ')[1]\n",
    "    if 'Chasis No.' in l6[i]:\n",
    "        s6['CHASIS NO']=l6[i].split('. ')[1]\n",
    "    if 'Engine No.' in l6[i]:\n",
    "        s6['ENGINE NO']=l6[i].split('. ')[1]\n",
    "    if 'Month/ Yr of' in l6[i]:\n",
    "        s6['DATE']=l6[i].split(' of ')[1]\n",
    "    if 'Address' in l6[i]:\n",
    "        s6['ADDRESS']=l6[i+2]+' '+l6[i+3]"
   ]
  },
  {
   "cell_type": "code",
   "execution_count": 1148,
   "metadata": {},
   "outputs": [
    {
     "data": {
      "text/plain": [
       "{'LICENSE NO.': '34984',\n",
       " 'NAME': 'DAVINDER SINGH',\n",
       " 'ADDRESS': 'VPO. NANGAL KHURD, q DISTT. SONIPAT ;',\n",
       " 'REGISTRATION NO.': 'HR10-P-5470',\n",
       " 'CHASIS NO': 'MALCM41VR9M079263* L',\n",
       " 'ENGINE NO': 'D4FA9U817848',\n",
       " 'DATE': '31/12/2009'}"
      ]
     },
     "execution_count": 1148,
     "metadata": {},
     "output_type": "execute_result"
    }
   ],
   "source": [
    "s6"
   ]
  },
  {
   "cell_type": "code",
   "execution_count": 865,
   "metadata": {},
   "outputs": [],
   "source": [
    "p7='C:\\\\Users\\\\HP\\\\Desktop\\\\opencv image detection\\\\image 2\\\\txt_mudit_b8_1_808.jpg'\n",
    "image=cv2.imread(p7)\n",
    "#ret, thresh1=cv2.threshold(i1, 210, 255, cv2.THRESH_OTSU)\n",
    "gray = cv2.cvtColor(image, cv2.COLOR_BGR2GRAY)\n",
    "#gray = cv2.cvtColor(i1, cv2.COLOR_BGR2RGB)\n",
    "gray = cv2.threshold(gray, 0, 255, cv2.THRESH_BINARY | cv2.THRESH_OTSU)[1]\n",
    "t7=pytesseract.image_to_string(gray,config=r'--oem 3 --psm 6')"
   ]
  },
  {
   "cell_type": "code",
   "execution_count": 868,
   "metadata": {},
   "outputs": [],
   "source": [
    "l8=list(filter(bool,t7.split('\\n')))"
   ]
  },
  {
   "cell_type": "code",
   "execution_count": 862,
   "metadata": {},
   "outputs": [],
   "source": [
    "#img = cv2.cvtColor(image, cv2.COLOR_BGR2GRAY)\n",
    "#t7=pytesseract.image_to_string(img)\n",
    "                               #,config)\n",
    "                               #=r'--oem 2 --psm 6')"
   ]
  },
  {
   "cell_type": "code",
   "execution_count": 920,
   "metadata": {},
   "outputs": [],
   "source": [
    "s8={}\n",
    "for i in range(len(l8)):\n",
    "    if 'Brand' in l8[i]:\n",
    "        s8['BRAND']=l8[i].split('Vehicle')[1]\n",
    "    if 'faker' in l8[i]:\n",
    "        s8['makers name']=l8[i].split('Name')[1]\n",
    "    if 'Name' in l8[i]:\n",
    "        s8['DEALERS NAME']=l8[i].split(' Name ')[1].split(' |')[0]\n",
    "    if 'Address' in l8[i]:\n",
    "        s8['ADDRESS']=l8[i].split('Address ')[1]\n",
    "    if 'Date of Issue' in l8[i]:\n",
    "        s8['Date of Issues']=l8[i].split('Date of Issue ')[1].split(' a')[0]"
   ]
  },
  {
   "cell_type": "code",
   "execution_count": 921,
   "metadata": {},
   "outputs": [
    {
     "data": {
      "text/plain": [
       "{'BRAND': ' VERNA LS5CRDIVGT MT',\n",
       " 'makers name': ' HYUNDAI MOTORS INDIA LTD.',\n",
       " 'DEALERS NAME': 'MALWA AUTO SALES',\n",
       " 'ADDRESS': 'KUNDLI, SONIPAT vm',\n",
       " 'Date of Issues': '19/05/2010'}"
      ]
     },
     "execution_count": 921,
     "metadata": {},
     "output_type": "execute_result"
    }
   ],
   "source": [
    "s8"
   ]
  },
  {
   "cell_type": "code",
   "execution_count": 926,
   "metadata": {},
   "outputs": [],
   "source": [
    "p8='C:\\\\Users\\\\HP\\\\Desktop\\\\opencv image detection\\\\image 2\\\\txt_mudit_b8_1_854.jpg'\n",
    "image=cv2.imread(p8)\n",
    "#ret, thresh1=cv2.threshold(i1, 210, 255, cv2.THRESH_OTSU)\n",
    "gray = cv2.cvtColor(image, cv2.COLOR_BGR2GRAY)\n",
    "#gray = cv2.cvtColor(i1, cv2.COLOR_BGR2RGB)\n",
    "gray = cv2.threshold(gray, 0, 255, cv2.THRESH_BINARY | cv2.THRESH_OTSU)[1]\n",
    "t8=pytesseract.image_to_string(gray)\n",
    "                               #,config=r'--oem 3 --psm 6')\n"
   ]
  },
  {
   "cell_type": "code",
   "execution_count": 924,
   "metadata": {},
   "outputs": [
    {
     "name": "stdout",
     "output_type": "stream",
     "text": [
      "TOF HARYANA\n",
      "RICAPE OF REGISTRATION\n",
      "‘ NO. 23 RULE 48)\n",
      "\n",
      "pee No. ‘HR10-M-5657.\n",
      "* 0 6 6 ANUBHAV JAIN ,\n",
      "Sete > AIMESH KUMAR JAIN\n",
      "‘331886, GALL INDER LOK\n",
      "Pe ware MANDI, SONTPAT\n",
      "Po MLA SFCRIS00121756\n",
      "\n",
      " \n",
      "\n",
      " \n",
      "\n",
      " \n",
      "\n",
      "~  _» D13A1120011 ©\n",
      ". eye\n",
      "é ‘(inoluding driver)\n",
      "\n",
      "m Diese 28.09.2014) 13, 1\n"
     ]
    }
   ],
   "source": [
    "print(t8)"
   ]
  },
  {
   "cell_type": "code",
   "execution_count": 947,
   "metadata": {},
   "outputs": [],
   "source": [
    "img = cv2.cvtColor(image, cv2.COLOR_BGR2RGB)\n",
    "t8=pytesseract.image_to_string(img)"
   ]
  },
  {
   "cell_type": "code",
   "execution_count": 957,
   "metadata": {},
   "outputs": [],
   "source": [
    "t8=pytesseract.image_to_string(b)"
   ]
  },
  {
   "cell_type": "code",
   "execution_count": 956,
   "metadata": {},
   "outputs": [],
   "source": [
    "b=cv2.bilateralFilter(cv2.imread('C:\\\\Users\\\\HP\\\\Desktop\\\\opencv image detection\\\\image 2\\\\txt_mudit_b8_1_854.jpg'), 21,51,51)"
   ]
  },
  {
   "cell_type": "code",
   "execution_count": 958,
   "metadata": {},
   "outputs": [
    {
     "name": "stdout",
     "output_type": "stream",
     "text": [
      "OF HARYANA\n",
      "OF REGISTRATION\n",
      "\n",
      "(FORM NO. 23 RULE 48)\n",
      "\n",
      "HR10-M-5657\n",
      "ANUBHAV JAIN\n",
      "\n",
      "‘S/o UMESH KUMAR JAIN\n",
      "\n",
      "23/586, GALI INDER LOK\n",
      "KATH MANDI, SONIPAT\n",
      "\n",
      "- No. N/A\n",
      "\n",
      " \n",
      " \n",
      " \n",
      " \n",
      "  \n",
      "\n",
      "N/A\n",
      "MA3FKEB2S00121700\n",
      "D1I3A1120011 |\n",
      "\n",
      "29/08/2008\n",
      "- § (including driver)\n",
      "\n",
      " \n",
      "  \n",
      "\n",
      "  \n",
      "\n",
      "ell 28.09.2011 13:\n"
     ]
    }
   ],
   "source": [
    "print(t8)"
   ]
  },
  {
   "cell_type": "code",
   "execution_count": 962,
   "metadata": {},
   "outputs": [],
   "source": [
    "l8=list(filter(bool, t8.split('\\n')))"
   ]
  },
  {
   "cell_type": "code",
   "execution_count": 1145,
   "metadata": {},
   "outputs": [],
   "source": [
    "s9={}\n",
    "for i in range(len(l8)):\n",
    "    if 'HR1' in l8[i]:\n",
    "        s9['REGISTRATION NO.']=l8[i]\n",
    "    if 'ANUBHAV JAIN' in l8[i]:\n",
    "        s9['NAME']=l8[i]\n",
    "    if '29/08/2008' in l8[i]:\n",
    "        s9['DATE']=l8[i]\n",
    "    if 'MA3FKEB2S00121700' in l8[i]:\n",
    "        s9['CHASIS NO']=l8[i]\n",
    "    if 'D1I3A1120011' in l8[i]:\n",
    "        s9['ENGINE NO']=l8[i].split(' |')[0]"
   ]
  },
  {
   "cell_type": "code",
   "execution_count": 1146,
   "metadata": {},
   "outputs": [
    {
     "data": {
      "text/plain": [
       "{'REGISTRATION NO.': 'HR10-M-5657',\n",
       " 'NAME': 'ANUBHAV JAIN',\n",
       " 'CHASIS NO': 'MA3FKEB2S00121700',\n",
       " 'ENGINE NO': 'D1I3A1120011',\n",
       " 'DATE': '29/08/2008'}"
      ]
     },
     "execution_count": 1146,
     "metadata": {},
     "output_type": "execute_result"
    }
   ],
   "source": [
    "s9"
   ]
  },
  {
   "cell_type": "code",
   "execution_count": 995,
   "metadata": {},
   "outputs": [],
   "source": [
    "p9='C:\\\\Users\\\\HP\\\\Desktop\\\\opencv image detection\\\\image 2\\\\txt_mudit_b8_1_855.jpg'\n",
    "b=cv2.bilateralFilter(cv2.imread(p9), 21,51,51)\n",
    "t9=pytesseract.image_to_string(b)"
   ]
  },
  {
   "cell_type": "code",
   "execution_count": 996,
   "metadata": {},
   "outputs": [
    {
     "name": "stdout",
     "output_type": "stream",
     "text": [
      "SWIFT DZIRE ZD! E-3\n",
      "MARUTI UDYOG LTD.\n",
      "LMV ( MARUTI CAR)\n",
      "E Cubie Capacity =) 298C.¢\n",
      "Colour PMA WHITE\n",
      "NO PCHBACK\n",
      "wu BANK OF INDIA\n",
      "a AN MOTORS\n",
      "\n",
      "awe ©\n",
      "\n",
      "  \n",
      "\n",
      "28.09.2011 13:11\n"
     ]
    }
   ],
   "source": [
    "print(t9)"
   ]
  },
  {
   "cell_type": "code",
   "execution_count": 1002,
   "metadata": {},
   "outputs": [],
   "source": [
    "image=cv2.imread(p9)\n",
    "#ret, thresh1=cv2.threshold(i1, 210, 255, cv2.THRESH_OTSU)\n",
    "gray = cv2.cvtColor(image, cv2.COLOR_BGR2GRAY)\n",
    "#gray = cv2.cvtColor(i1, cv2.COLOR_BGR2RGB)\n",
    "gray = cv2.threshold(gray, 0, 255, cv2.THRESH_BINARY | cv2.THRESH_OTSU)[1]\n",
    "t9=pytesseract.image_to_string(gray,config=r'--oem 3 --psm 6')"
   ]
  },
  {
   "cell_type": "code",
   "execution_count": 1003,
   "metadata": {},
   "outputs": [
    {
     "name": "stdout",
     "output_type": "stream",
     "text": [
      "Stier Baha ES Be, dnd a\n",
      "Maa et Vericle SWIFT DZIRE ZDIE-3\n",
      "—. ‘MARUTIUDYOG LTD.\n",
      "Me LMV (MARUTI CAR)\n",
      "a = = il Cubje Capacity 1298CC\n",
      "Midipites) =: 1 105K Colour PMA WHITE .\n",
      "— NOTCHBACK _ |\n",
      "wee hes UNION BANK OF INDIA\n",
      "— | JAGMOHAN MOTORS | 7\n",
      "eres ee @ae Time Be\n",
      "+ gl 1002/2009 4 °\n",
      "aaa , _* 08.2011, 13:11\n"
     ]
    }
   ],
   "source": [
    "print(t9)"
   ]
  },
  {
   "cell_type": "code",
   "execution_count": 1007,
   "metadata": {},
   "outputs": [],
   "source": [
    "image=cv2.imread(p9,0)"
   ]
  },
  {
   "cell_type": "code",
   "execution_count": 1008,
   "metadata": {},
   "outputs": [],
   "source": [
    "ret1, thresh2=cv2.threshold(image, 2100, 2550, cv2.THRESH_OTSU | cv2.THRESH_BINARY)"
   ]
  },
  {
   "cell_type": "code",
   "execution_count": 1011,
   "metadata": {},
   "outputs": [],
   "source": [
    "#img = cv2.cvtColor(image, cv2.COLOR_BGR2RGB)\n",
    "t9=pytesseract.image_to_string(thresh2)"
   ]
  },
  {
   "cell_type": "code",
   "execution_count": 1013,
   "metadata": {},
   "outputs": [],
   "source": [
    "l9=list(filter(bool, t9.split('\\n')))"
   ]
  },
  {
   "cell_type": "code",
   "execution_count": 1034,
   "metadata": {},
   "outputs": [],
   "source": [
    "s10={}\n",
    "for i in range(len(l9)):\n",
    "    if 'SWIFT DZIRE' in l9[i]:\n",
    "        s10['BRAND']=l9[i]\n",
    "    if 'MARUT ‘}-UDYOG LTD'in l9[i]:\n",
    "        s10['makers name']=l9[i]"
   ]
  },
  {
   "cell_type": "code",
   "execution_count": 1035,
   "metadata": {},
   "outputs": [
    {
     "data": {
      "text/plain": [
       "{'BRAND': 'SWIFT DZIRE ZDI E-3', 'makers name': '| MARUT ‘}-UDYOG LTD.'}"
      ]
     },
     "execution_count": 1035,
     "metadata": {},
     "output_type": "execute_result"
    }
   ],
   "source": [
    "s10"
   ]
  },
  {
   "cell_type": "code",
   "execution_count": 1021,
   "metadata": {},
   "outputs": [
    {
     "data": {
      "text/plain": [
       "['SWIFT DZIRE ZDI E-3',\n",
       " '| MARUT ‘}-UDYOG LTD.',\n",
       " '__LMV(MARUTI CAR)',\n",
       " '4. Cubic Capacity = 1298CC',\n",
       " '110K. Colour. PMA WHITE',\n",
       " 'NOTCHBACK |',\n",
       " 'UNION BANK OF INDIA',\n",
       " '1 SAGMOHAN MOTORS —',\n",
       " 'a SMIWANI - |',\n",
       " '> 26/06/2023',\n",
       " 'ge Time',\n",
       " '1702/2097']"
      ]
     },
     "execution_count": 1021,
     "metadata": {},
     "output_type": "execute_result"
    }
   ],
   "source": [
    "l9"
   ]
  },
  {
   "cell_type": "code",
   "execution_count": 1113,
   "metadata": {},
   "outputs": [],
   "source": [
    "p1=pd.DataFrame(s1, index=[0])"
   ]
  },
  {
   "cell_type": "code",
   "execution_count": 1053,
   "metadata": {},
   "outputs": [],
   "source": [
    "import pandas as pd"
   ]
  },
  {
   "cell_type": "code",
   "execution_count": 1067,
   "metadata": {},
   "outputs": [
    {
     "data": {
      "text/html": [
       "<div>\n",
       "<style scoped>\n",
       "    .dataframe tbody tr th:only-of-type {\n",
       "        vertical-align: middle;\n",
       "    }\n",
       "\n",
       "    .dataframe tbody tr th {\n",
       "        vertical-align: top;\n",
       "    }\n",
       "\n",
       "    .dataframe thead th {\n",
       "        text-align: right;\n",
       "    }\n",
       "</style>\n",
       "<table border=\"1\" class=\"dataframe\">\n",
       "  <thead>\n",
       "    <tr style=\"text-align: right;\">\n",
       "      <th></th>\n",
       "      <th>REGISTRATION NO.</th>\n",
       "      <th>NAME</th>\n",
       "      <th>CHASIS NO</th>\n",
       "      <th>ENGINE NO</th>\n",
       "      <th>MFG. DATE</th>\n",
       "    </tr>\n",
       "  </thead>\n",
       "  <tbody>\n",
       "    <tr>\n",
       "      <th>0</th>\n",
       "      <td>ion No. HR42-A-4854 d</td>\n",
       "      <td>Name &amp;Address ASHWAN, &amp; BHIGAN, TEH.GNR 7 SONIPAT</td>\n",
       "      <td>Chasis No. MA3EED81S00628175</td>\n",
       "      <td>Engine No. F10DN4452456</td>\n",
       "      <td>Month/ Year of Manufacture 23/01/2008</td>\n",
       "    </tr>\n",
       "  </tbody>\n",
       "</table>\n",
       "</div>"
      ],
      "text/plain": [
       "        REGISTRATION NO.                                               NAME  \\\n",
       "0  ion No. HR42-A-4854 d  Name &Address ASHWAN, & BHIGAN, TEH.GNR 7 SONIPAT   \n",
       "\n",
       "                      CHASIS NO                ENGINE NO  \\\n",
       "0  Chasis No. MA3EED81S00628175  Engine No. F10DN4452456   \n",
       "\n",
       "                               MFG. DATE  \n",
       "0  Month/ Year of Manufacture 23/01/2008  "
      ]
     },
     "execution_count": 1067,
     "metadata": {},
     "output_type": "execute_result"
    }
   ],
   "source": [
    "p1"
   ]
  },
  {
   "cell_type": "code",
   "execution_count": null,
   "metadata": {},
   "outputs": [],
   "source": []
  },
  {
   "cell_type": "code",
   "execution_count": 1131,
   "metadata": {},
   "outputs": [],
   "source": [
    "p2=pd.DataFrame(s3, index=[1])"
   ]
  },
  {
   "cell_type": "code",
   "execution_count": 1151,
   "metadata": {},
   "outputs": [
    {
     "name": "stderr",
     "output_type": "stream",
     "text": [
      "c:\\users\\hp\\appdata\\local\\programs\\python\\python36\\lib\\site-packages\\ipykernel_launcher.py:1: FutureWarning: Sorting because non-concatenation axis is not aligned. A future version\n",
      "of pandas will change to not sort by default.\n",
      "\n",
      "To accept the future behavior, pass 'sort=False'.\n",
      "\n",
      "To retain the current behavior and silence the warning, pass 'sort=True'.\n",
      "\n",
      "  \"\"\"Entry point for launching an IPython kernel.\n"
     ]
    }
   ],
   "source": [
    "c=pd.concat([p1,p2, p3, p4, p5])"
   ]
  },
  {
   "cell_type": "code",
   "execution_count": 1154,
   "metadata": {},
   "outputs": [],
   "source": [
    "c.to_csv('image2_data.csv')"
   ]
  },
  {
   "cell_type": "code",
   "execution_count": 1150,
   "metadata": {},
   "outputs": [],
   "source": [
    "p3=pd.DataFrame(s5, index=[2])\n",
    "p4=pd.DataFrame(s6, index=[3])\n",
    "p5=pd.DataFrame(s9, index=[4])"
   ]
  },
  {
   "cell_type": "code",
   "execution_count": 1138,
   "metadata": {},
   "outputs": [
    {
     "data": {
      "text/plain": [
       "{'LICENSE NO.': '34984',\n",
       " 'NAME': 'DAVINDER SINGH',\n",
       " 'ADDRESS': 'VPO. NANGAL KHURD, q DISTT. SONIPAT ;',\n",
       " 'REGISTRATION NO.': 'HR10-P-5470',\n",
       " 'CHASIS NO': 'MALCM41VR9M079263* L',\n",
       " 'Engine No.': 'D4FA9U817848',\n",
       " 'Month/ Yr of': '31/12/2009'}"
      ]
     },
     "execution_count": 1138,
     "metadata": {},
     "output_type": "execute_result"
    }
   ],
   "source": [
    "s6"
   ]
  },
  {
   "cell_type": "code",
   "execution_count": null,
   "metadata": {},
   "outputs": [],
   "source": []
  },
  {
   "cell_type": "code",
   "execution_count": null,
   "metadata": {},
   "outputs": [],
   "source": []
  },
  {
   "cell_type": "code",
   "execution_count": null,
   "metadata": {},
   "outputs": [],
   "source": []
  }
 ],
 "metadata": {
  "kernelspec": {
   "display_name": "Python 3",
   "language": "python",
   "name": "python3"
  },
  "language_info": {
   "codemirror_mode": {
    "name": "ipython",
    "version": 3
   },
   "file_extension": ".py",
   "mimetype": "text/x-python",
   "name": "python",
   "nbconvert_exporter": "python",
   "pygments_lexer": "ipython3",
   "version": "3.6.5"
  }
 },
 "nbformat": 4,
 "nbformat_minor": 4
}
